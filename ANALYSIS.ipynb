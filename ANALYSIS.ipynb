{
 "cells": [
  {
   "cell_type": "markdown",
   "id": "22a8b8be-d016-41fb-8903-92d0563c71d0",
   "metadata": {},
   "source": [
    "### IMPORT CSV DATA FILE"
   ]
  },
  {
   "cell_type": "code",
   "execution_count": 23,
   "id": "dfc18c22-974b-4f18-821a-66e22e9b9780",
   "metadata": {},
   "outputs": [],
   "source": [
    "import pandas as pd"
   ]
  },
  {
   "cell_type": "code",
   "execution_count": 24,
   "id": "e4e7c1c9-8b0a-42dd-abba-e667ce23b72d",
   "metadata": {},
   "outputs": [],
   "source": [
    "df=pd.read_csv('IPL.csv')"
   ]
  },
  {
   "cell_type": "code",
   "execution_count": 25,
   "id": "4ee80bf5-8e77-4cee-8616-08678a6814e6",
   "metadata": {},
   "outputs": [
    {
     "data": {
      "text/html": [
       "<div>\n",
       "<style scoped>\n",
       "    .dataframe tbody tr th:only-of-type {\n",
       "        vertical-align: middle;\n",
       "    }\n",
       "\n",
       "    .dataframe tbody tr th {\n",
       "        vertical-align: top;\n",
       "    }\n",
       "\n",
       "    .dataframe thead th {\n",
       "        text-align: right;\n",
       "    }\n",
       "</style>\n",
       "<table border=\"1\" class=\"dataframe\">\n",
       "  <thead>\n",
       "    <tr style=\"text-align: right;\">\n",
       "      <th></th>\n",
       "      <th>City</th>\n",
       "      <th>Season</th>\n",
       "      <th>Team1</th>\n",
       "      <th>Team2</th>\n",
       "      <th>Venue</th>\n",
       "      <th>TossWinner</th>\n",
       "      <th>TossDecision</th>\n",
       "      <th>SuperOver</th>\n",
       "      <th>WinningTeam</th>\n",
       "      <th>WonBy</th>\n",
       "      <th>Margin</th>\n",
       "      <th>method</th>\n",
       "    </tr>\n",
       "  </thead>\n",
       "  <tbody>\n",
       "    <tr>\n",
       "      <th>0</th>\n",
       "      <td>Ahmedabad</td>\n",
       "      <td>2022</td>\n",
       "      <td>Rajasthan Royals</td>\n",
       "      <td>Gujarat Titans</td>\n",
       "      <td>Narendra Modi Stadium, Ahmedabad</td>\n",
       "      <td>Rajasthan Royals</td>\n",
       "      <td>bat</td>\n",
       "      <td>N</td>\n",
       "      <td>Gujarat Titans</td>\n",
       "      <td>Wickets</td>\n",
       "      <td>7.0</td>\n",
       "      <td>NaN</td>\n",
       "    </tr>\n",
       "    <tr>\n",
       "      <th>1</th>\n",
       "      <td>Ahmedabad</td>\n",
       "      <td>2022</td>\n",
       "      <td>Royal Challengers Bangalore</td>\n",
       "      <td>Rajasthan Royals</td>\n",
       "      <td>Narendra Modi Stadium, Ahmedabad</td>\n",
       "      <td>Rajasthan Royals</td>\n",
       "      <td>field</td>\n",
       "      <td>N</td>\n",
       "      <td>Rajasthan Royals</td>\n",
       "      <td>Wickets</td>\n",
       "      <td>7.0</td>\n",
       "      <td>NaN</td>\n",
       "    </tr>\n",
       "    <tr>\n",
       "      <th>2</th>\n",
       "      <td>Kolkata</td>\n",
       "      <td>2022</td>\n",
       "      <td>Royal Challengers Bangalore</td>\n",
       "      <td>Lucknow Super Giants</td>\n",
       "      <td>Eden Gardens, Kolkata</td>\n",
       "      <td>Lucknow Super Giants</td>\n",
       "      <td>field</td>\n",
       "      <td>N</td>\n",
       "      <td>Royal Challengers Bangalore</td>\n",
       "      <td>Runs</td>\n",
       "      <td>14.0</td>\n",
       "      <td>NaN</td>\n",
       "    </tr>\n",
       "    <tr>\n",
       "      <th>3</th>\n",
       "      <td>Kolkata</td>\n",
       "      <td>2022</td>\n",
       "      <td>Rajasthan Royals</td>\n",
       "      <td>Gujarat Titans</td>\n",
       "      <td>Eden Gardens, Kolkata</td>\n",
       "      <td>Gujarat Titans</td>\n",
       "      <td>field</td>\n",
       "      <td>N</td>\n",
       "      <td>Gujarat Titans</td>\n",
       "      <td>Wickets</td>\n",
       "      <td>7.0</td>\n",
       "      <td>NaN</td>\n",
       "    </tr>\n",
       "    <tr>\n",
       "      <th>4</th>\n",
       "      <td>Mumbai</td>\n",
       "      <td>2022</td>\n",
       "      <td>Sunrisers Hyderabad</td>\n",
       "      <td>Punjab Kings</td>\n",
       "      <td>Wankhede Stadium, Mumbai</td>\n",
       "      <td>Sunrisers Hyderabad</td>\n",
       "      <td>bat</td>\n",
       "      <td>N</td>\n",
       "      <td>Punjab Kings</td>\n",
       "      <td>Wickets</td>\n",
       "      <td>5.0</td>\n",
       "      <td>NaN</td>\n",
       "    </tr>\n",
       "  </tbody>\n",
       "</table>\n",
       "</div>"
      ],
      "text/plain": [
       "        City Season                        Team1                 Team2  \\\n",
       "0  Ahmedabad   2022             Rajasthan Royals        Gujarat Titans   \n",
       "1  Ahmedabad   2022  Royal Challengers Bangalore      Rajasthan Royals   \n",
       "2    Kolkata   2022  Royal Challengers Bangalore  Lucknow Super Giants   \n",
       "3    Kolkata   2022             Rajasthan Royals        Gujarat Titans   \n",
       "4     Mumbai   2022          Sunrisers Hyderabad          Punjab Kings   \n",
       "\n",
       "                              Venue            TossWinner TossDecision  \\\n",
       "0  Narendra Modi Stadium, Ahmedabad      Rajasthan Royals          bat   \n",
       "1  Narendra Modi Stadium, Ahmedabad      Rajasthan Royals        field   \n",
       "2             Eden Gardens, Kolkata  Lucknow Super Giants        field   \n",
       "3             Eden Gardens, Kolkata        Gujarat Titans        field   \n",
       "4          Wankhede Stadium, Mumbai   Sunrisers Hyderabad          bat   \n",
       "\n",
       "  SuperOver                  WinningTeam    WonBy  Margin method  \n",
       "0         N               Gujarat Titans  Wickets     7.0    NaN  \n",
       "1         N             Rajasthan Royals  Wickets     7.0    NaN  \n",
       "2         N  Royal Challengers Bangalore     Runs    14.0    NaN  \n",
       "3         N               Gujarat Titans  Wickets     7.0    NaN  \n",
       "4         N                 Punjab Kings  Wickets     5.0    NaN  "
      ]
     },
     "execution_count": 25,
     "metadata": {},
     "output_type": "execute_result"
    }
   ],
   "source": [
    "df.head()"
   ]
  },
  {
   "cell_type": "markdown",
   "id": "4e544246-3497-4b27-93d3-f647f3c9e166",
   "metadata": {},
   "source": [
    "### DATA CLEANING"
   ]
  },
  {
   "cell_type": "code",
   "execution_count": 26,
   "id": "bea97c6d-5a82-4dc6-85a9-f91f0b9aa610",
   "metadata": {},
   "outputs": [
    {
     "data": {
      "text/plain": [
       "City             51\n",
       "Season            0\n",
       "Team1             0\n",
       "Team2             0\n",
       "Venue             0\n",
       "TossWinner        0\n",
       "TossDecision      0\n",
       "SuperOver         4\n",
       "WinningTeam       4\n",
       "WonBy             0\n",
       "Margin           18\n",
       "method          931\n",
       "dtype: int64"
      ]
     },
     "execution_count": 26,
     "metadata": {},
     "output_type": "execute_result"
    }
   ],
   "source": [
    "df.isnull().sum()"
   ]
  },
  {
   "cell_type": "code",
   "execution_count": 27,
   "id": "b88193b6-03d9-48df-907e-dbbafeed17c1",
   "metadata": {},
   "outputs": [
    {
     "data": {
      "text/plain": [
       "City            899\n",
       "Season          950\n",
       "Team1           950\n",
       "Team2           950\n",
       "Venue           950\n",
       "TossWinner      950\n",
       "TossDecision    950\n",
       "SuperOver       946\n",
       "WinningTeam     946\n",
       "WonBy           950\n",
       "Margin          932\n",
       "method           19\n",
       "dtype: int64"
      ]
     },
     "execution_count": 27,
     "metadata": {},
     "output_type": "execute_result"
    }
   ],
   "source": [
    "df.count()"
   ]
  },
  {
   "cell_type": "markdown",
   "id": "6c2e3c87-c69c-435d-afcd-86cf516e12ab",
   "metadata": {},
   "source": [
    "#### Columns\n",
    "- City"
   ]
  },
  {
   "cell_type": "code",
   "execution_count": 28,
   "id": "d16a76d8-50c0-4191-a147-9c6fdc89c360",
   "metadata": {},
   "outputs": [
    {
     "data": {
      "text/html": [
       "<div>\n",
       "<style scoped>\n",
       "    .dataframe tbody tr th:only-of-type {\n",
       "        vertical-align: middle;\n",
       "    }\n",
       "\n",
       "    .dataframe tbody tr th {\n",
       "        vertical-align: top;\n",
       "    }\n",
       "\n",
       "    .dataframe thead th {\n",
       "        text-align: right;\n",
       "    }\n",
       "</style>\n",
       "<table border=\"1\" class=\"dataframe\">\n",
       "  <thead>\n",
       "    <tr style=\"text-align: right;\">\n",
       "      <th></th>\n",
       "      <th>City</th>\n",
       "      <th>Season</th>\n",
       "      <th>Team1</th>\n",
       "      <th>Team2</th>\n",
       "      <th>Venue</th>\n",
       "      <th>TossWinner</th>\n",
       "      <th>TossDecision</th>\n",
       "      <th>SuperOver</th>\n",
       "      <th>WinningTeam</th>\n",
       "      <th>WonBy</th>\n",
       "      <th>Margin</th>\n",
       "      <th>method</th>\n",
       "    </tr>\n",
       "  </thead>\n",
       "  <tbody>\n",
       "    <tr>\n",
       "      <th>134</th>\n",
       "      <td>NaN</td>\n",
       "      <td>2020/21</td>\n",
       "      <td>Delhi Capitals</td>\n",
       "      <td>Mumbai Indians</td>\n",
       "      <td>Dubai International Cricket Stadium</td>\n",
       "      <td>Delhi Capitals</td>\n",
       "      <td>bat</td>\n",
       "      <td>N</td>\n",
       "      <td>Mumbai Indians</td>\n",
       "      <td>Wickets</td>\n",
       "      <td>5.0</td>\n",
       "      <td>NaN</td>\n",
       "    </tr>\n",
       "    <tr>\n",
       "      <th>137</th>\n",
       "      <td>NaN</td>\n",
       "      <td>2020/21</td>\n",
       "      <td>Mumbai Indians</td>\n",
       "      <td>Delhi Capitals</td>\n",
       "      <td>Dubai International Cricket Stadium</td>\n",
       "      <td>Delhi Capitals</td>\n",
       "      <td>field</td>\n",
       "      <td>N</td>\n",
       "      <td>Mumbai Indians</td>\n",
       "      <td>Runs</td>\n",
       "      <td>57.0</td>\n",
       "      <td>NaN</td>\n",
       "    </tr>\n",
       "  </tbody>\n",
       "</table>\n",
       "</div>"
      ],
      "text/plain": [
       "    City   Season           Team1           Team2  \\\n",
       "134  NaN  2020/21  Delhi Capitals  Mumbai Indians   \n",
       "137  NaN  2020/21  Mumbai Indians  Delhi Capitals   \n",
       "\n",
       "                                   Venue      TossWinner TossDecision  \\\n",
       "134  Dubai International Cricket Stadium  Delhi Capitals          bat   \n",
       "137  Dubai International Cricket Stadium  Delhi Capitals        field   \n",
       "\n",
       "    SuperOver     WinningTeam    WonBy  Margin method  \n",
       "134         N  Mumbai Indians  Wickets     5.0    NaN  \n",
       "137         N  Mumbai Indians     Runs    57.0    NaN  "
      ]
     },
     "execution_count": 28,
     "metadata": {},
     "output_type": "execute_result"
    }
   ],
   "source": [
    "df[df['City'].isnull()].head(2)"
   ]
  },
  {
   "cell_type": "code",
   "execution_count": 29,
   "id": "149fda2d-731d-4fd3-8b31-7a10f46bb179",
   "metadata": {},
   "outputs": [],
   "source": [
    "df[\"City\"].fillna(\"Foreign\", inplace = True)"
   ]
  },
  {
   "cell_type": "code",
   "execution_count": 30,
   "id": "736db228-7a1d-4118-9a74-b535b0ddf9f6",
   "metadata": {},
   "outputs": [
    {
     "data": {
      "text/plain": [
       "City              0\n",
       "Season            0\n",
       "Team1             0\n",
       "Team2             0\n",
       "Venue             0\n",
       "TossWinner        0\n",
       "TossDecision      0\n",
       "SuperOver         4\n",
       "WinningTeam       4\n",
       "WonBy             0\n",
       "Margin           18\n",
       "method          931\n",
       "dtype: int64"
      ]
     },
     "execution_count": 30,
     "metadata": {},
     "output_type": "execute_result"
    }
   ],
   "source": [
    "df.isnull().sum()"
   ]
  },
  {
   "cell_type": "markdown",
   "id": "a629b3a2-e213-4134-8315-ec96957ba204",
   "metadata": {},
   "source": [
    "#### Column \n",
    "- Super Over"
   ]
  },
  {
   "cell_type": "code",
   "execution_count": 31,
   "id": "91dc57f0-c1b9-4527-b708-b5a64da57e9f",
   "metadata": {},
   "outputs": [
    {
     "data": {
      "text/plain": [
       "array(['N', 'Y', nan], dtype=object)"
      ]
     },
     "execution_count": 31,
     "metadata": {},
     "output_type": "execute_result"
    }
   ],
   "source": [
    "df['SuperOver'].unique()"
   ]
  },
  {
   "cell_type": "code",
   "execution_count": 32,
   "id": "12afae84-9515-46de-83cc-0e4648dc5abc",
   "metadata": {},
   "outputs": [
    {
     "data": {
      "text/html": [
       "<div>\n",
       "<style scoped>\n",
       "    .dataframe tbody tr th:only-of-type {\n",
       "        vertical-align: middle;\n",
       "    }\n",
       "\n",
       "    .dataframe tbody tr th {\n",
       "        vertical-align: top;\n",
       "    }\n",
       "\n",
       "    .dataframe thead th {\n",
       "        text-align: right;\n",
       "    }\n",
       "</style>\n",
       "<table border=\"1\" class=\"dataframe\">\n",
       "  <thead>\n",
       "    <tr style=\"text-align: right;\">\n",
       "      <th></th>\n",
       "      <th>City</th>\n",
       "      <th>Season</th>\n",
       "      <th>Team1</th>\n",
       "      <th>Team2</th>\n",
       "      <th>Venue</th>\n",
       "      <th>TossWinner</th>\n",
       "      <th>TossDecision</th>\n",
       "      <th>SuperOver</th>\n",
       "      <th>WinningTeam</th>\n",
       "      <th>WonBy</th>\n",
       "      <th>Margin</th>\n",
       "      <th>method</th>\n",
       "    </tr>\n",
       "  </thead>\n",
       "  <tbody>\n",
       "    <tr>\n",
       "      <th>205</th>\n",
       "      <td>Bengaluru</td>\n",
       "      <td>2019</td>\n",
       "      <td>Royal Challengers Bangalore</td>\n",
       "      <td>Rajasthan Royals</td>\n",
       "      <td>M.Chinnaswamy Stadium</td>\n",
       "      <td>Rajasthan Royals</td>\n",
       "      <td>field</td>\n",
       "      <td>NaN</td>\n",
       "      <td>NaN</td>\n",
       "      <td>NoResults</td>\n",
       "      <td>NaN</td>\n",
       "      <td>NaN</td>\n",
       "    </tr>\n",
       "    <tr>\n",
       "      <th>437</th>\n",
       "      <td>Bangalore</td>\n",
       "      <td>2015</td>\n",
       "      <td>Royal Challengers Bangalore</td>\n",
       "      <td>Delhi Daredevils</td>\n",
       "      <td>M Chinnaswamy Stadium</td>\n",
       "      <td>Royal Challengers Bangalore</td>\n",
       "      <td>field</td>\n",
       "      <td>NaN</td>\n",
       "      <td>NaN</td>\n",
       "      <td>NoResults</td>\n",
       "      <td>NaN</td>\n",
       "      <td>NaN</td>\n",
       "    </tr>\n",
       "    <tr>\n",
       "      <th>464</th>\n",
       "      <td>Bangalore</td>\n",
       "      <td>2015</td>\n",
       "      <td>Royal Challengers Bangalore</td>\n",
       "      <td>Rajasthan Royals</td>\n",
       "      <td>M Chinnaswamy Stadium</td>\n",
       "      <td>Rajasthan Royals</td>\n",
       "      <td>field</td>\n",
       "      <td>NaN</td>\n",
       "      <td>NaN</td>\n",
       "      <td>NoResults</td>\n",
       "      <td>NaN</td>\n",
       "      <td>NaN</td>\n",
       "    </tr>\n",
       "    <tr>\n",
       "      <th>708</th>\n",
       "      <td>Delhi</td>\n",
       "      <td>2011</td>\n",
       "      <td>Delhi Daredevils</td>\n",
       "      <td>Pune Warriors</td>\n",
       "      <td>Feroz Shah Kotla</td>\n",
       "      <td>Delhi Daredevils</td>\n",
       "      <td>bat</td>\n",
       "      <td>NaN</td>\n",
       "      <td>NaN</td>\n",
       "      <td>NoResults</td>\n",
       "      <td>NaN</td>\n",
       "      <td>NaN</td>\n",
       "    </tr>\n",
       "  </tbody>\n",
       "</table>\n",
       "</div>"
      ],
      "text/plain": [
       "          City Season                        Team1             Team2  \\\n",
       "205  Bengaluru   2019  Royal Challengers Bangalore  Rajasthan Royals   \n",
       "437  Bangalore   2015  Royal Challengers Bangalore  Delhi Daredevils   \n",
       "464  Bangalore   2015  Royal Challengers Bangalore  Rajasthan Royals   \n",
       "708      Delhi   2011             Delhi Daredevils     Pune Warriors   \n",
       "\n",
       "                     Venue                   TossWinner TossDecision  \\\n",
       "205  M.Chinnaswamy Stadium             Rajasthan Royals        field   \n",
       "437  M Chinnaswamy Stadium  Royal Challengers Bangalore        field   \n",
       "464  M Chinnaswamy Stadium             Rajasthan Royals        field   \n",
       "708       Feroz Shah Kotla             Delhi Daredevils          bat   \n",
       "\n",
       "    SuperOver WinningTeam      WonBy  Margin method  \n",
       "205       NaN         NaN  NoResults     NaN    NaN  \n",
       "437       NaN         NaN  NoResults     NaN    NaN  \n",
       "464       NaN         NaN  NoResults     NaN    NaN  \n",
       "708       NaN         NaN  NoResults     NaN    NaN  "
      ]
     },
     "execution_count": 32,
     "metadata": {},
     "output_type": "execute_result"
    }
   ],
   "source": [
    "df[df['SuperOver'].isnull()]"
   ]
  },
  {
   "cell_type": "code",
   "execution_count": 33,
   "id": "f958f548-7814-4a0e-9718-4c72d1809490",
   "metadata": {},
   "outputs": [],
   "source": [
    "df[\"SuperOver\"].fillna(\"N\", inplace = True)"
   ]
  },
  {
   "cell_type": "code",
   "execution_count": 34,
   "id": "d621ac16-4828-4bb4-9798-649557259f0f",
   "metadata": {},
   "outputs": [
    {
     "data": {
      "text/plain": [
       "array(['N', 'Y'], dtype=object)"
      ]
     },
     "execution_count": 34,
     "metadata": {},
     "output_type": "execute_result"
    }
   ],
   "source": [
    "df['SuperOver'].unique()"
   ]
  },
  {
   "cell_type": "code",
   "execution_count": 35,
   "id": "8c866af0-aa7d-4323-9529-6b6c9f26a7c4",
   "metadata": {},
   "outputs": [
    {
     "data": {
      "text/plain": [
       "City              0\n",
       "Season            0\n",
       "Team1             0\n",
       "Team2             0\n",
       "Venue             0\n",
       "TossWinner        0\n",
       "TossDecision      0\n",
       "SuperOver         0\n",
       "WinningTeam       4\n",
       "WonBy             0\n",
       "Margin           18\n",
       "method          931\n",
       "dtype: int64"
      ]
     },
     "execution_count": 35,
     "metadata": {},
     "output_type": "execute_result"
    }
   ],
   "source": [
    "df.isnull().sum()"
   ]
  },
  {
   "cell_type": "markdown",
   "id": "e7d119ad-1ac6-4857-b11f-8dbf2d03cd97",
   "metadata": {},
   "source": [
    "#### Column\n",
    "- Wininng Team\n"
   ]
  },
  {
   "cell_type": "code",
   "execution_count": 36,
   "id": "7fcd4993-f3cc-43fb-a084-27283459d3b2",
   "metadata": {},
   "outputs": [
    {
     "data": {
      "text/html": [
       "<div>\n",
       "<style scoped>\n",
       "    .dataframe tbody tr th:only-of-type {\n",
       "        vertical-align: middle;\n",
       "    }\n",
       "\n",
       "    .dataframe tbody tr th {\n",
       "        vertical-align: top;\n",
       "    }\n",
       "\n",
       "    .dataframe thead th {\n",
       "        text-align: right;\n",
       "    }\n",
       "</style>\n",
       "<table border=\"1\" class=\"dataframe\">\n",
       "  <thead>\n",
       "    <tr style=\"text-align: right;\">\n",
       "      <th></th>\n",
       "      <th>City</th>\n",
       "      <th>Season</th>\n",
       "      <th>Team1</th>\n",
       "      <th>Team2</th>\n",
       "      <th>Venue</th>\n",
       "      <th>TossWinner</th>\n",
       "      <th>TossDecision</th>\n",
       "      <th>SuperOver</th>\n",
       "      <th>WinningTeam</th>\n",
       "      <th>WonBy</th>\n",
       "      <th>Margin</th>\n",
       "      <th>method</th>\n",
       "    </tr>\n",
       "  </thead>\n",
       "  <tbody>\n",
       "    <tr>\n",
       "      <th>205</th>\n",
       "      <td>Bengaluru</td>\n",
       "      <td>2019</td>\n",
       "      <td>Royal Challengers Bangalore</td>\n",
       "      <td>Rajasthan Royals</td>\n",
       "      <td>M.Chinnaswamy Stadium</td>\n",
       "      <td>Rajasthan Royals</td>\n",
       "      <td>field</td>\n",
       "      <td>N</td>\n",
       "      <td>NaN</td>\n",
       "      <td>NoResults</td>\n",
       "      <td>NaN</td>\n",
       "      <td>NaN</td>\n",
       "    </tr>\n",
       "    <tr>\n",
       "      <th>437</th>\n",
       "      <td>Bangalore</td>\n",
       "      <td>2015</td>\n",
       "      <td>Royal Challengers Bangalore</td>\n",
       "      <td>Delhi Daredevils</td>\n",
       "      <td>M Chinnaswamy Stadium</td>\n",
       "      <td>Royal Challengers Bangalore</td>\n",
       "      <td>field</td>\n",
       "      <td>N</td>\n",
       "      <td>NaN</td>\n",
       "      <td>NoResults</td>\n",
       "      <td>NaN</td>\n",
       "      <td>NaN</td>\n",
       "    </tr>\n",
       "    <tr>\n",
       "      <th>464</th>\n",
       "      <td>Bangalore</td>\n",
       "      <td>2015</td>\n",
       "      <td>Royal Challengers Bangalore</td>\n",
       "      <td>Rajasthan Royals</td>\n",
       "      <td>M Chinnaswamy Stadium</td>\n",
       "      <td>Rajasthan Royals</td>\n",
       "      <td>field</td>\n",
       "      <td>N</td>\n",
       "      <td>NaN</td>\n",
       "      <td>NoResults</td>\n",
       "      <td>NaN</td>\n",
       "      <td>NaN</td>\n",
       "    </tr>\n",
       "    <tr>\n",
       "      <th>708</th>\n",
       "      <td>Delhi</td>\n",
       "      <td>2011</td>\n",
       "      <td>Delhi Daredevils</td>\n",
       "      <td>Pune Warriors</td>\n",
       "      <td>Feroz Shah Kotla</td>\n",
       "      <td>Delhi Daredevils</td>\n",
       "      <td>bat</td>\n",
       "      <td>N</td>\n",
       "      <td>NaN</td>\n",
       "      <td>NoResults</td>\n",
       "      <td>NaN</td>\n",
       "      <td>NaN</td>\n",
       "    </tr>\n",
       "  </tbody>\n",
       "</table>\n",
       "</div>"
      ],
      "text/plain": [
       "          City Season                        Team1             Team2  \\\n",
       "205  Bengaluru   2019  Royal Challengers Bangalore  Rajasthan Royals   \n",
       "437  Bangalore   2015  Royal Challengers Bangalore  Delhi Daredevils   \n",
       "464  Bangalore   2015  Royal Challengers Bangalore  Rajasthan Royals   \n",
       "708      Delhi   2011             Delhi Daredevils     Pune Warriors   \n",
       "\n",
       "                     Venue                   TossWinner TossDecision  \\\n",
       "205  M.Chinnaswamy Stadium             Rajasthan Royals        field   \n",
       "437  M Chinnaswamy Stadium  Royal Challengers Bangalore        field   \n",
       "464  M Chinnaswamy Stadium             Rajasthan Royals        field   \n",
       "708       Feroz Shah Kotla             Delhi Daredevils          bat   \n",
       "\n",
       "    SuperOver WinningTeam      WonBy  Margin method  \n",
       "205         N         NaN  NoResults     NaN    NaN  \n",
       "437         N         NaN  NoResults     NaN    NaN  \n",
       "464         N         NaN  NoResults     NaN    NaN  \n",
       "708         N         NaN  NoResults     NaN    NaN  "
      ]
     },
     "execution_count": 36,
     "metadata": {},
     "output_type": "execute_result"
    }
   ],
   "source": [
    "df[df['WinningTeam'].isnull()]"
   ]
  },
  {
   "cell_type": "code",
   "execution_count": 37,
   "id": "5d39d9d6-2db9-4f77-af8e-b3387ffe1d14",
   "metadata": {},
   "outputs": [
    {
     "data": {
      "text/plain": [
       "array(['Gujarat Titans', 'Rajasthan Royals',\n",
       "       'Royal Challengers Bangalore', 'Punjab Kings', 'Mumbai Indians',\n",
       "       'Lucknow Super Giants', 'Sunrisers Hyderabad', 'Delhi Capitals',\n",
       "       'Kolkata Knight Riders', 'Chennai Super Kings', 'Kings XI Punjab',\n",
       "       nan, 'Delhi Daredevils', 'Rising Pune Supergiant', 'Gujarat Lions',\n",
       "       'Rising Pune Supergiants', 'Pune Warriors', 'Deccan Chargers',\n",
       "       'Kochi Tuskers Kerala'], dtype=object)"
      ]
     },
     "execution_count": 37,
     "metadata": {},
     "output_type": "execute_result"
    }
   ],
   "source": [
    "df['WinningTeam'].unique()"
   ]
  },
  {
   "cell_type": "code",
   "execution_count": 38,
   "id": "ea6bfd2d-a21e-42ce-81de-73bdf1dfc084",
   "metadata": {},
   "outputs": [],
   "source": [
    "df[\"WinningTeam\"].fillna(\"None\", inplace = True)"
   ]
  },
  {
   "cell_type": "code",
   "execution_count": 39,
   "id": "06bb714b-2532-4551-b1ae-53664386e132",
   "metadata": {},
   "outputs": [
    {
     "data": {
      "text/plain": [
       "City              0\n",
       "Season            0\n",
       "Team1             0\n",
       "Team2             0\n",
       "Venue             0\n",
       "TossWinner        0\n",
       "TossDecision      0\n",
       "SuperOver         0\n",
       "WinningTeam       0\n",
       "WonBy             0\n",
       "Margin           18\n",
       "method          931\n",
       "dtype: int64"
      ]
     },
     "execution_count": 39,
     "metadata": {},
     "output_type": "execute_result"
    }
   ],
   "source": [
    "df.isnull().sum()"
   ]
  },
  {
   "cell_type": "markdown",
   "id": "8aca4da4-6556-4759-81e8-b0482b85f154",
   "metadata": {},
   "source": [
    "#### Column\n",
    "- Margin"
   ]
  },
  {
   "cell_type": "code",
   "execution_count": 41,
   "id": "aa48d97c-7315-4c00-b612-89ee6a8150c5",
   "metadata": {},
   "outputs": [
    {
     "data": {
      "text/html": [
       "<div>\n",
       "<style scoped>\n",
       "    .dataframe tbody tr th:only-of-type {\n",
       "        vertical-align: middle;\n",
       "    }\n",
       "\n",
       "    .dataframe tbody tr th {\n",
       "        vertical-align: top;\n",
       "    }\n",
       "\n",
       "    .dataframe thead th {\n",
       "        text-align: right;\n",
       "    }\n",
       "</style>\n",
       "<table border=\"1\" class=\"dataframe\">\n",
       "  <thead>\n",
       "    <tr style=\"text-align: right;\">\n",
       "      <th></th>\n",
       "      <th>City</th>\n",
       "      <th>Season</th>\n",
       "      <th>Team1</th>\n",
       "      <th>Team2</th>\n",
       "      <th>Venue</th>\n",
       "      <th>TossWinner</th>\n",
       "      <th>TossDecision</th>\n",
       "      <th>SuperOver</th>\n",
       "      <th>WinningTeam</th>\n",
       "      <th>WonBy</th>\n",
       "      <th>Margin</th>\n",
       "      <th>method</th>\n",
       "    </tr>\n",
       "  </thead>\n",
       "  <tbody>\n",
       "    <tr>\n",
       "      <th>114</th>\n",
       "      <td>Chennai</td>\n",
       "      <td>2021</td>\n",
       "      <td>Delhi Capitals</td>\n",
       "      <td>Sunrisers Hyderabad</td>\n",
       "      <td>MA Chidambaram Stadium, Chepauk, Chennai</td>\n",
       "      <td>Delhi Capitals</td>\n",
       "      <td>bat</td>\n",
       "      <td>Y</td>\n",
       "      <td>Delhi Capitals</td>\n",
       "      <td>SuperOver</td>\n",
       "      <td>NaN</td>\n",
       "      <td>NaN</td>\n",
       "    </tr>\n",
       "    <tr>\n",
       "      <th>158</th>\n",
       "      <td>Abu Dhabi</td>\n",
       "      <td>2020/21</td>\n",
       "      <td>Kolkata Knight Riders</td>\n",
       "      <td>Sunrisers Hyderabad</td>\n",
       "      <td>Sheikh Zayed Stadium</td>\n",
       "      <td>Sunrisers Hyderabad</td>\n",
       "      <td>field</td>\n",
       "      <td>Y</td>\n",
       "      <td>Kolkata Knight Riders</td>\n",
       "      <td>SuperOver</td>\n",
       "      <td>NaN</td>\n",
       "      <td>NaN</td>\n",
       "    </tr>\n",
       "    <tr>\n",
       "      <th>159</th>\n",
       "      <td>Foreign</td>\n",
       "      <td>2020/21</td>\n",
       "      <td>Mumbai Indians</td>\n",
       "      <td>Kings XI Punjab</td>\n",
       "      <td>Dubai International Cricket Stadium</td>\n",
       "      <td>Mumbai Indians</td>\n",
       "      <td>bat</td>\n",
       "      <td>Y</td>\n",
       "      <td>Kings XI Punjab</td>\n",
       "      <td>SuperOver</td>\n",
       "      <td>NaN</td>\n",
       "      <td>NaN</td>\n",
       "    </tr>\n",
       "  </tbody>\n",
       "</table>\n",
       "</div>"
      ],
      "text/plain": [
       "          City   Season                  Team1                Team2  \\\n",
       "114    Chennai     2021         Delhi Capitals  Sunrisers Hyderabad   \n",
       "158  Abu Dhabi  2020/21  Kolkata Knight Riders  Sunrisers Hyderabad   \n",
       "159    Foreign  2020/21         Mumbai Indians      Kings XI Punjab   \n",
       "\n",
       "                                        Venue           TossWinner  \\\n",
       "114  MA Chidambaram Stadium, Chepauk, Chennai       Delhi Capitals   \n",
       "158                      Sheikh Zayed Stadium  Sunrisers Hyderabad   \n",
       "159       Dubai International Cricket Stadium       Mumbai Indians   \n",
       "\n",
       "    TossDecision SuperOver            WinningTeam      WonBy  Margin method  \n",
       "114          bat         Y         Delhi Capitals  SuperOver     NaN    NaN  \n",
       "158        field         Y  Kolkata Knight Riders  SuperOver     NaN    NaN  \n",
       "159          bat         Y        Kings XI Punjab  SuperOver     NaN    NaN  "
      ]
     },
     "execution_count": 41,
     "metadata": {},
     "output_type": "execute_result"
    }
   ],
   "source": [
    "df[df['Margin'].isnull()].head(3)"
   ]
  },
  {
   "cell_type": "code",
   "execution_count": 42,
   "id": "3a6504fc-3e22-4da5-83b8-844af021aea1",
   "metadata": {},
   "outputs": [],
   "source": [
    "df.drop(['Margin'], axis=1,inplace=True)"
   ]
  },
  {
   "cell_type": "code",
   "execution_count": 44,
   "id": "9588a198-6728-4c17-864f-8c789c564a8e",
   "metadata": {},
   "outputs": [
    {
     "data": {
      "text/html": [
       "<div>\n",
       "<style scoped>\n",
       "    .dataframe tbody tr th:only-of-type {\n",
       "        vertical-align: middle;\n",
       "    }\n",
       "\n",
       "    .dataframe tbody tr th {\n",
       "        vertical-align: top;\n",
       "    }\n",
       "\n",
       "    .dataframe thead th {\n",
       "        text-align: right;\n",
       "    }\n",
       "</style>\n",
       "<table border=\"1\" class=\"dataframe\">\n",
       "  <thead>\n",
       "    <tr style=\"text-align: right;\">\n",
       "      <th></th>\n",
       "      <th>City</th>\n",
       "      <th>Season</th>\n",
       "      <th>Team1</th>\n",
       "      <th>Team2</th>\n",
       "      <th>Venue</th>\n",
       "      <th>TossWinner</th>\n",
       "      <th>TossDecision</th>\n",
       "      <th>SuperOver</th>\n",
       "      <th>WinningTeam</th>\n",
       "      <th>WonBy</th>\n",
       "      <th>method</th>\n",
       "    </tr>\n",
       "  </thead>\n",
       "  <tbody>\n",
       "    <tr>\n",
       "      <th>0</th>\n",
       "      <td>Ahmedabad</td>\n",
       "      <td>2022</td>\n",
       "      <td>Rajasthan Royals</td>\n",
       "      <td>Gujarat Titans</td>\n",
       "      <td>Narendra Modi Stadium, Ahmedabad</td>\n",
       "      <td>Rajasthan Royals</td>\n",
       "      <td>bat</td>\n",
       "      <td>N</td>\n",
       "      <td>Gujarat Titans</td>\n",
       "      <td>Wickets</td>\n",
       "      <td>NaN</td>\n",
       "    </tr>\n",
       "    <tr>\n",
       "      <th>1</th>\n",
       "      <td>Ahmedabad</td>\n",
       "      <td>2022</td>\n",
       "      <td>Royal Challengers Bangalore</td>\n",
       "      <td>Rajasthan Royals</td>\n",
       "      <td>Narendra Modi Stadium, Ahmedabad</td>\n",
       "      <td>Rajasthan Royals</td>\n",
       "      <td>field</td>\n",
       "      <td>N</td>\n",
       "      <td>Rajasthan Royals</td>\n",
       "      <td>Wickets</td>\n",
       "      <td>NaN</td>\n",
       "    </tr>\n",
       "  </tbody>\n",
       "</table>\n",
       "</div>"
      ],
      "text/plain": [
       "        City Season                        Team1             Team2  \\\n",
       "0  Ahmedabad   2022             Rajasthan Royals    Gujarat Titans   \n",
       "1  Ahmedabad   2022  Royal Challengers Bangalore  Rajasthan Royals   \n",
       "\n",
       "                              Venue        TossWinner TossDecision SuperOver  \\\n",
       "0  Narendra Modi Stadium, Ahmedabad  Rajasthan Royals          bat         N   \n",
       "1  Narendra Modi Stadium, Ahmedabad  Rajasthan Royals        field         N   \n",
       "\n",
       "        WinningTeam    WonBy method  \n",
       "0    Gujarat Titans  Wickets    NaN  \n",
       "1  Rajasthan Royals  Wickets    NaN  "
      ]
     },
     "execution_count": 44,
     "metadata": {},
     "output_type": "execute_result"
    }
   ],
   "source": [
    "df.head(2)"
   ]
  },
  {
   "cell_type": "code",
   "execution_count": 45,
   "id": "feaa1b58-adf9-42f5-858a-dbd9ce24e773",
   "metadata": {},
   "outputs": [
    {
     "data": {
      "text/plain": [
       "City              0\n",
       "Season            0\n",
       "Team1             0\n",
       "Team2             0\n",
       "Venue             0\n",
       "TossWinner        0\n",
       "TossDecision      0\n",
       "SuperOver         0\n",
       "WinningTeam       0\n",
       "WonBy             0\n",
       "method          931\n",
       "dtype: int64"
      ]
     },
     "execution_count": 45,
     "metadata": {},
     "output_type": "execute_result"
    }
   ],
   "source": [
    "df.isnull().sum()"
   ]
  },
  {
   "cell_type": "markdown",
   "id": "e639324d-c41e-409b-976b-8e2517230590",
   "metadata": {},
   "source": [
    "#### Column\n",
    "- Method"
   ]
  },
  {
   "cell_type": "code",
   "execution_count": 48,
   "id": "cdeac806-e55f-4a52-98a6-0949d66d47c7",
   "metadata": {},
   "outputs": [
    {
     "data": {
      "text/plain": [
       "array([nan, 'D/L'], dtype=object)"
      ]
     },
     "execution_count": 48,
     "metadata": {},
     "output_type": "execute_result"
    }
   ],
   "source": [
    "df['method'].unique()"
   ]
  },
  {
   "cell_type": "code",
   "execution_count": 50,
   "id": "206bf771-90c9-40eb-b426-492bf73392e0",
   "metadata": {},
   "outputs": [
    {
     "data": {
      "text/html": [
       "<div>\n",
       "<style scoped>\n",
       "    .dataframe tbody tr th:only-of-type {\n",
       "        vertical-align: middle;\n",
       "    }\n",
       "\n",
       "    .dataframe tbody tr th {\n",
       "        vertical-align: top;\n",
       "    }\n",
       "\n",
       "    .dataframe thead th {\n",
       "        text-align: right;\n",
       "    }\n",
       "</style>\n",
       "<table border=\"1\" class=\"dataframe\">\n",
       "  <thead>\n",
       "    <tr style=\"text-align: right;\">\n",
       "      <th></th>\n",
       "      <th>City</th>\n",
       "      <th>Season</th>\n",
       "      <th>Team1</th>\n",
       "      <th>Team2</th>\n",
       "      <th>Venue</th>\n",
       "      <th>TossWinner</th>\n",
       "      <th>TossDecision</th>\n",
       "      <th>SuperOver</th>\n",
       "      <th>WinningTeam</th>\n",
       "      <th>WonBy</th>\n",
       "      <th>method</th>\n",
       "    </tr>\n",
       "  </thead>\n",
       "  <tbody>\n",
       "    <tr>\n",
       "      <th>282</th>\n",
       "      <td>Delhi</td>\n",
       "      <td>2018</td>\n",
       "      <td>Delhi Daredevils</td>\n",
       "      <td>Rajasthan Royals</td>\n",
       "      <td>Arun Jaitley Stadium</td>\n",
       "      <td>Rajasthan Royals</td>\n",
       "      <td>field</td>\n",
       "      <td>N</td>\n",
       "      <td>Delhi Daredevils</td>\n",
       "      <td>Runs</td>\n",
       "      <td>D/L</td>\n",
       "    </tr>\n",
       "    <tr>\n",
       "      <th>296</th>\n",
       "      <td>Kolkata</td>\n",
       "      <td>2018</td>\n",
       "      <td>Kolkata Knight Riders</td>\n",
       "      <td>Kings XI Punjab</td>\n",
       "      <td>Eden Gardens</td>\n",
       "      <td>Kings XI Punjab</td>\n",
       "      <td>field</td>\n",
       "      <td>N</td>\n",
       "      <td>Kings XI Punjab</td>\n",
       "      <td>Wickets</td>\n",
       "      <td>D/L</td>\n",
       "    </tr>\n",
       "  </tbody>\n",
       "</table>\n",
       "</div>"
      ],
      "text/plain": [
       "        City Season                  Team1             Team2  \\\n",
       "282    Delhi   2018       Delhi Daredevils  Rajasthan Royals   \n",
       "296  Kolkata   2018  Kolkata Knight Riders   Kings XI Punjab   \n",
       "\n",
       "                    Venue        TossWinner TossDecision SuperOver  \\\n",
       "282  Arun Jaitley Stadium  Rajasthan Royals        field         N   \n",
       "296          Eden Gardens   Kings XI Punjab        field         N   \n",
       "\n",
       "          WinningTeam    WonBy method  \n",
       "282  Delhi Daredevils     Runs    D/L  \n",
       "296   Kings XI Punjab  Wickets    D/L  "
      ]
     },
     "execution_count": 50,
     "metadata": {},
     "output_type": "execute_result"
    }
   ],
   "source": [
    "df[df['method']=='D/L'].head(2)"
   ]
  },
  {
   "cell_type": "code",
   "execution_count": 51,
   "id": "02ee0ca1-5f1d-4bc3-be6a-4954bf55d7fb",
   "metadata": {},
   "outputs": [],
   "source": [
    "df.drop(['method'], axis=1,inplace=True)"
   ]
  },
  {
   "cell_type": "code",
   "execution_count": 53,
   "id": "b445bb38-acbf-46ac-a9c3-482607fb1499",
   "metadata": {},
   "outputs": [
    {
     "data": {
      "text/html": [
       "<div>\n",
       "<style scoped>\n",
       "    .dataframe tbody tr th:only-of-type {\n",
       "        vertical-align: middle;\n",
       "    }\n",
       "\n",
       "    .dataframe tbody tr th {\n",
       "        vertical-align: top;\n",
       "    }\n",
       "\n",
       "    .dataframe thead th {\n",
       "        text-align: right;\n",
       "    }\n",
       "</style>\n",
       "<table border=\"1\" class=\"dataframe\">\n",
       "  <thead>\n",
       "    <tr style=\"text-align: right;\">\n",
       "      <th></th>\n",
       "      <th>City</th>\n",
       "      <th>Season</th>\n",
       "      <th>Team1</th>\n",
       "      <th>Team2</th>\n",
       "      <th>Venue</th>\n",
       "      <th>TossWinner</th>\n",
       "      <th>TossDecision</th>\n",
       "      <th>SuperOver</th>\n",
       "      <th>WinningTeam</th>\n",
       "      <th>WonBy</th>\n",
       "    </tr>\n",
       "  </thead>\n",
       "  <tbody>\n",
       "    <tr>\n",
       "      <th>0</th>\n",
       "      <td>Ahmedabad</td>\n",
       "      <td>2022</td>\n",
       "      <td>Rajasthan Royals</td>\n",
       "      <td>Gujarat Titans</td>\n",
       "      <td>Narendra Modi Stadium, Ahmedabad</td>\n",
       "      <td>Rajasthan Royals</td>\n",
       "      <td>bat</td>\n",
       "      <td>N</td>\n",
       "      <td>Gujarat Titans</td>\n",
       "      <td>Wickets</td>\n",
       "    </tr>\n",
       "    <tr>\n",
       "      <th>1</th>\n",
       "      <td>Ahmedabad</td>\n",
       "      <td>2022</td>\n",
       "      <td>Royal Challengers Bangalore</td>\n",
       "      <td>Rajasthan Royals</td>\n",
       "      <td>Narendra Modi Stadium, Ahmedabad</td>\n",
       "      <td>Rajasthan Royals</td>\n",
       "      <td>field</td>\n",
       "      <td>N</td>\n",
       "      <td>Rajasthan Royals</td>\n",
       "      <td>Wickets</td>\n",
       "    </tr>\n",
       "    <tr>\n",
       "      <th>2</th>\n",
       "      <td>Kolkata</td>\n",
       "      <td>2022</td>\n",
       "      <td>Royal Challengers Bangalore</td>\n",
       "      <td>Lucknow Super Giants</td>\n",
       "      <td>Eden Gardens, Kolkata</td>\n",
       "      <td>Lucknow Super Giants</td>\n",
       "      <td>field</td>\n",
       "      <td>N</td>\n",
       "      <td>Royal Challengers Bangalore</td>\n",
       "      <td>Runs</td>\n",
       "    </tr>\n",
       "    <tr>\n",
       "      <th>3</th>\n",
       "      <td>Kolkata</td>\n",
       "      <td>2022</td>\n",
       "      <td>Rajasthan Royals</td>\n",
       "      <td>Gujarat Titans</td>\n",
       "      <td>Eden Gardens, Kolkata</td>\n",
       "      <td>Gujarat Titans</td>\n",
       "      <td>field</td>\n",
       "      <td>N</td>\n",
       "      <td>Gujarat Titans</td>\n",
       "      <td>Wickets</td>\n",
       "    </tr>\n",
       "    <tr>\n",
       "      <th>4</th>\n",
       "      <td>Mumbai</td>\n",
       "      <td>2022</td>\n",
       "      <td>Sunrisers Hyderabad</td>\n",
       "      <td>Punjab Kings</td>\n",
       "      <td>Wankhede Stadium, Mumbai</td>\n",
       "      <td>Sunrisers Hyderabad</td>\n",
       "      <td>bat</td>\n",
       "      <td>N</td>\n",
       "      <td>Punjab Kings</td>\n",
       "      <td>Wickets</td>\n",
       "    </tr>\n",
       "  </tbody>\n",
       "</table>\n",
       "</div>"
      ],
      "text/plain": [
       "        City Season                        Team1                 Team2  \\\n",
       "0  Ahmedabad   2022             Rajasthan Royals        Gujarat Titans   \n",
       "1  Ahmedabad   2022  Royal Challengers Bangalore      Rajasthan Royals   \n",
       "2    Kolkata   2022  Royal Challengers Bangalore  Lucknow Super Giants   \n",
       "3    Kolkata   2022             Rajasthan Royals        Gujarat Titans   \n",
       "4     Mumbai   2022          Sunrisers Hyderabad          Punjab Kings   \n",
       "\n",
       "                              Venue            TossWinner TossDecision  \\\n",
       "0  Narendra Modi Stadium, Ahmedabad      Rajasthan Royals          bat   \n",
       "1  Narendra Modi Stadium, Ahmedabad      Rajasthan Royals        field   \n",
       "2             Eden Gardens, Kolkata  Lucknow Super Giants        field   \n",
       "3             Eden Gardens, Kolkata        Gujarat Titans        field   \n",
       "4          Wankhede Stadium, Mumbai   Sunrisers Hyderabad          bat   \n",
       "\n",
       "  SuperOver                  WinningTeam    WonBy  \n",
       "0         N               Gujarat Titans  Wickets  \n",
       "1         N             Rajasthan Royals  Wickets  \n",
       "2         N  Royal Challengers Bangalore     Runs  \n",
       "3         N               Gujarat Titans  Wickets  \n",
       "4         N                 Punjab Kings  Wickets  "
      ]
     },
     "execution_count": 53,
     "metadata": {},
     "output_type": "execute_result"
    }
   ],
   "source": [
    "df.head()"
   ]
  },
  {
   "cell_type": "code",
   "execution_count": 63,
   "id": "1c2be299-6994-4dee-83d2-d18d3f488939",
   "metadata": {},
   "outputs": [],
   "source": [
    "df['Season'].replace('2020/21',2020,inplace=True)"
   ]
  },
  {
   "cell_type": "code",
   "execution_count": 60,
   "id": "ce2121a2-0f2f-4c77-9c99-4fd0d00c0bc2",
   "metadata": {},
   "outputs": [],
   "source": [
    "df['Season'].replace('2007/08',2008,inplace=True)"
   ]
  },
  {
   "cell_type": "code",
   "execution_count": 61,
   "id": "fe233119-22dc-47c4-a2cc-35ab379586a4",
   "metadata": {},
   "outputs": [],
   "source": [
    "df['Season'].replace('2009/10',2010,inplace=True)"
   ]
  },
  {
   "cell_type": "code",
   "execution_count": 64,
   "id": "3635ec4c-6d62-4b23-a66f-44cd51266bb2",
   "metadata": {},
   "outputs": [
    {
     "data": {
      "text/plain": [
       "array(['2022', '2021', 2020, '2019', '2018', '2017', '2016', '2015',\n",
       "       '2014', '2013', '2012', '2011', 2010, '2009', 2008], dtype=object)"
      ]
     },
     "execution_count": 64,
     "metadata": {},
     "output_type": "execute_result"
    }
   ],
   "source": [
    "df['Season'].unique()"
   ]
  },
  {
   "cell_type": "code",
   "execution_count": 66,
   "id": "014d85f0-b6a9-4414-b7be-4f6be9aae9b0",
   "metadata": {},
   "outputs": [
    {
     "data": {
      "text/plain": [
       "Index(['City', 'Season', 'Team1', 'Team2', 'Venue', 'TossWinner',\n",
       "       'TossDecision', 'SuperOver', 'WinningTeam', 'WonBy'],\n",
       "      dtype='object')"
      ]
     },
     "execution_count": 66,
     "metadata": {},
     "output_type": "execute_result"
    }
   ],
   "source": [
    "df.columns"
   ]
  },
  {
   "cell_type": "code",
   "execution_count": 67,
   "id": "0a2f55e5-0856-4576-8cbc-a3cfe8f6e411",
   "metadata": {},
   "outputs": [
    {
     "data": {
      "text/plain": [
       "City            0\n",
       "Season          0\n",
       "Team1           0\n",
       "Team2           0\n",
       "Venue           0\n",
       "TossWinner      0\n",
       "TossDecision    0\n",
       "SuperOver       0\n",
       "WinningTeam     0\n",
       "WonBy           0\n",
       "dtype: int64"
      ]
     },
     "execution_count": 67,
     "metadata": {},
     "output_type": "execute_result"
    }
   ],
   "source": [
    "df.isnull().sum()"
   ]
  },
  {
   "cell_type": "code",
   "execution_count": 68,
   "id": "27d12720-bfbb-48ce-8122-388ad1f91a5e",
   "metadata": {},
   "outputs": [
    {
     "data": {
      "text/plain": [
       "City            object\n",
       "Season          object\n",
       "Team1           object\n",
       "Team2           object\n",
       "Venue           object\n",
       "TossWinner      object\n",
       "TossDecision    object\n",
       "SuperOver       object\n",
       "WinningTeam     object\n",
       "WonBy           object\n",
       "dtype: object"
      ]
     },
     "execution_count": 68,
     "metadata": {},
     "output_type": "execute_result"
    }
   ],
   "source": [
    "df.dtypes"
   ]
  },
  {
   "cell_type": "code",
   "execution_count": 69,
   "id": "be4360a9-ab7d-4c39-a5d5-72d8c21c7767",
   "metadata": {},
   "outputs": [
    {
     "data": {
      "text/plain": [
       "array(['Ahmedabad', 'Kolkata', 'Mumbai', 'Navi Mumbai', 'Pune', 'Dubai',\n",
       "       'Sharjah', 'Abu Dhabi', 'Delhi', 'Chennai', 'Foreign', 'Hyderabad',\n",
       "       'Visakhapatnam', 'Chandigarh', 'Bengaluru', 'Jaipur', 'Indore',\n",
       "       'Bangalore', 'Kanpur', 'Rajkot', 'Raipur', 'Ranchi', 'Cuttack',\n",
       "       'Dharamsala', 'Kochi', 'Nagpur', 'Johannesburg', 'Centurion',\n",
       "       'Durban', 'Bloemfontein', 'Port Elizabeth', 'Kimberley',\n",
       "       'East London', 'Cape Town'], dtype=object)"
      ]
     },
     "execution_count": 69,
     "metadata": {},
     "output_type": "execute_result"
    }
   ],
   "source": [
    "df['City'].unique()"
   ]
  },
  {
   "cell_type": "code",
   "execution_count": 71,
   "id": "1c8fe6dd-f803-416d-b788-f6a4ba1455c6",
   "metadata": {},
   "outputs": [
    {
     "data": {
      "text/plain": [
       "array(['Rajasthan Royals', 'Royal Challengers Bangalore',\n",
       "       'Sunrisers Hyderabad', 'Delhi Capitals', 'Chennai Super Kings',\n",
       "       'Gujarat Titans', 'Lucknow Super Giants', 'Kolkata Knight Riders',\n",
       "       'Punjab Kings', 'Mumbai Indians', 'Kings XI Punjab',\n",
       "       'Delhi Daredevils', 'Rising Pune Supergiant', 'Gujarat Lions',\n",
       "       'Rising Pune Supergiants', 'Pune Warriors', 'Deccan Chargers',\n",
       "       'Kochi Tuskers Kerala'], dtype=object)"
      ]
     },
     "execution_count": 71,
     "metadata": {},
     "output_type": "execute_result"
    }
   ],
   "source": [
    "df['Team1'].unique()"
   ]
  },
  {
   "cell_type": "code",
   "execution_count": 79,
   "id": "b5e70f6b-7dbe-4a29-9a6d-ab7106c706de",
   "metadata": {},
   "outputs": [],
   "source": [
    "df['Team1'].replace('Kings XI Punjab','Punjab Kings',inplace=True)\n",
    "df['Team2'].replace('Kings XI Punjab','Punjab Kings',inplace=True)\n",
    "df['Team1'].replace('Delhi Daredevils','Delhi Capitals',inplace=True)\n",
    "df['Team2'].replace('Delhi Daredevils','Delhi Capitals',inplace=True)\n",
    "df['Team1'].replace('Rising Pune Supergiant','Chennai Super Kings',inplace=True)\n",
    "df['Team2'].replace('Rising Pune Supergiant','Chennai Super Kings',inplace=True)\n",
    "df['Team1'].replace('Gujarat Lions','Rajasthan Royals',inplace=True)\n",
    "df['Team2'].replace('Gujarat Lions','Rajasthan Royals',inplace=True)"
   ]
  },
  {
   "cell_type": "code",
   "execution_count": 125,
   "id": "a9c08558-aa24-4412-a4dd-e5db51fb28ba",
   "metadata": {},
   "outputs": [],
   "source": [
    "df['TossWinner'].replace('Kings XI Punjab','Punjab Kings',inplace=True)\n",
    "df['WinningTeam'].replace('Kings XI Punjab','Punjab Kings',inplace=True)\n",
    "df['TossWinner'].replace('Delhi Daredevils','Delhi Capitals',inplace=True)\n",
    "df['WinningTeam'].replace('Delhi Daredevils','Delhi Capitals',inplace=True)\n",
    "df['TossWinner'].replace('Rising Pune Supergiants','Chennai Super Kings',inplace=True)\n",
    "df['WinningTeam'].replace('Rising Pune Supergiants','Chennai Super Kings',inplace=True)\n",
    "df['TossWinner'].replace('Gujarat Lions','Rajasthan Royals',inplace=True)\n",
    "df['WinningTeam'].replace('Gujarat Lions','Rajasthan Royals',inplace=True)"
   ]
  },
  {
   "cell_type": "code",
   "execution_count": 80,
   "id": "75f52430-1c1e-48f2-b5c5-195bcf71d6f7",
   "metadata": {},
   "outputs": [
    {
     "data": {
      "text/plain": [
       "array(['Rajasthan Royals', 'Royal Challengers Bangalore',\n",
       "       'Sunrisers Hyderabad', 'Delhi Capitals', 'Chennai Super Kings',\n",
       "       'Gujarat Titans', 'Lucknow Super Giants', 'Kolkata Knight Riders',\n",
       "       'Punjab Kings', 'Mumbai Indians', 'Pune Warriors',\n",
       "       'Deccan Chargers', 'Kochi Tuskers Kerala'], dtype=object)"
      ]
     },
     "execution_count": 80,
     "metadata": {},
     "output_type": "execute_result"
    }
   ],
   "source": [
    "df['Team1'].unique()"
   ]
  },
  {
   "cell_type": "code",
   "execution_count": 83,
   "id": "2053c56b-fb56-4e7b-8df7-dab118fbff71",
   "metadata": {},
   "outputs": [
    {
     "data": {
      "text/html": [
       "<div>\n",
       "<style scoped>\n",
       "    .dataframe tbody tr th:only-of-type {\n",
       "        vertical-align: middle;\n",
       "    }\n",
       "\n",
       "    .dataframe tbody tr th {\n",
       "        vertical-align: top;\n",
       "    }\n",
       "\n",
       "    .dataframe thead th {\n",
       "        text-align: right;\n",
       "    }\n",
       "</style>\n",
       "<table border=\"1\" class=\"dataframe\">\n",
       "  <thead>\n",
       "    <tr style=\"text-align: right;\">\n",
       "      <th></th>\n",
       "      <th>City</th>\n",
       "      <th>Season</th>\n",
       "      <th>Team1</th>\n",
       "      <th>Team2</th>\n",
       "      <th>Venue</th>\n",
       "      <th>TossWinner</th>\n",
       "      <th>TossDecision</th>\n",
       "      <th>SuperOver</th>\n",
       "      <th>WinningTeam</th>\n",
       "      <th>WonBy</th>\n",
       "    </tr>\n",
       "  </thead>\n",
       "  <tbody>\n",
       "    <tr>\n",
       "      <th>557</th>\n",
       "      <td>Pune</td>\n",
       "      <td>2013</td>\n",
       "      <td>Pune Warriors</td>\n",
       "      <td>Delhi Capitals</td>\n",
       "      <td>Subrata Roy Sahara Stadium</td>\n",
       "      <td>Pune Warriors</td>\n",
       "      <td>bat</td>\n",
       "      <td>N</td>\n",
       "      <td>Pune Warriors</td>\n",
       "      <td>Runs</td>\n",
       "    </tr>\n",
       "    <tr>\n",
       "      <th>570</th>\n",
       "      <td>Pune</td>\n",
       "      <td>2013</td>\n",
       "      <td>Pune Warriors</td>\n",
       "      <td>Mumbai Indians</td>\n",
       "      <td>Subrata Roy Sahara Stadium</td>\n",
       "      <td>Pune Warriors</td>\n",
       "      <td>bat</td>\n",
       "      <td>N</td>\n",
       "      <td>Mumbai Indians</td>\n",
       "      <td>Wickets</td>\n",
       "    </tr>\n",
       "    <tr>\n",
       "      <th>572</th>\n",
       "      <td>Pune</td>\n",
       "      <td>2013</td>\n",
       "      <td>Pune Warriors</td>\n",
       "      <td>Kolkata Knight Riders</td>\n",
       "      <td>Subrata Roy Sahara Stadium</td>\n",
       "      <td>Kolkata Knight Riders</td>\n",
       "      <td>bat</td>\n",
       "      <td>N</td>\n",
       "      <td>Kolkata Knight Riders</td>\n",
       "      <td>Runs</td>\n",
       "    </tr>\n",
       "  </tbody>\n",
       "</table>\n",
       "</div>"
      ],
      "text/plain": [
       "     City Season          Team1                  Team2  \\\n",
       "557  Pune   2013  Pune Warriors         Delhi Capitals   \n",
       "570  Pune   2013  Pune Warriors         Mumbai Indians   \n",
       "572  Pune   2013  Pune Warriors  Kolkata Knight Riders   \n",
       "\n",
       "                          Venue             TossWinner TossDecision SuperOver  \\\n",
       "557  Subrata Roy Sahara Stadium          Pune Warriors          bat         N   \n",
       "570  Subrata Roy Sahara Stadium          Pune Warriors          bat         N   \n",
       "572  Subrata Roy Sahara Stadium  Kolkata Knight Riders          bat         N   \n",
       "\n",
       "               WinningTeam    WonBy  \n",
       "557          Pune Warriors     Runs  \n",
       "570         Mumbai Indians  Wickets  \n",
       "572  Kolkata Knight Riders     Runs  "
      ]
     },
     "execution_count": 83,
     "metadata": {},
     "output_type": "execute_result"
    }
   ],
   "source": [
    "df[df['Team1'].isin(['Pune Warriors',\n",
    "       'Deccan Chargers', 'Kochi Tuskers Kerala'])].head(3)"
   ]
  },
  {
   "cell_type": "code",
   "execution_count": 88,
   "id": "9db0695f-f13b-4c0b-bb88-ca834b192b8a",
   "metadata": {},
   "outputs": [],
   "source": [
    "df1=df[df['Team1'].isin(['Pune Warriors',\n",
    "       'Deccan Chargers', 'Kochi Tuskers Kerala'])].index"
   ]
  },
  {
   "cell_type": "code",
   "execution_count": 89,
   "id": "19d413b2-2369-4757-b9bd-044e5f509801",
   "metadata": {},
   "outputs": [],
   "source": [
    "df.drop(df1,inplace=True)"
   ]
  },
  {
   "cell_type": "code",
   "execution_count": 117,
   "id": "6c1057f3-fd9e-431a-8cf5-ff91a462b156",
   "metadata": {},
   "outputs": [],
   "source": [
    "df2=df[df['Team2'].isin(['Pune Warriors',\n",
    "       'Deccan Chargers', 'Kochi Tuskers Kerala'])].index\n",
    "df.drop(df2,inplace=True)"
   ]
  },
  {
   "cell_type": "code",
   "execution_count": 91,
   "id": "1457511a-2e71-4534-be40-e71558168d62",
   "metadata": {},
   "outputs": [
    {
     "data": {
      "text/plain": [
       "array(['Rajasthan Royals', 'Royal Challengers Bangalore',\n",
       "       'Sunrisers Hyderabad', 'Delhi Capitals', 'Chennai Super Kings',\n",
       "       'Gujarat Titans', 'Lucknow Super Giants', 'Kolkata Knight Riders',\n",
       "       'Punjab Kings', 'Mumbai Indians'], dtype=object)"
      ]
     },
     "execution_count": 91,
     "metadata": {},
     "output_type": "execute_result"
    }
   ],
   "source": [
    "df['Team1'].unique()"
   ]
  },
  {
   "cell_type": "code",
   "execution_count": 92,
   "id": "1ebd8742-d98b-4e9b-b3dc-9242a9355205",
   "metadata": {},
   "outputs": [
    {
     "data": {
      "text/plain": [
       "Index(['City', 'Season', 'Team1', 'Team2', 'Venue', 'TossWinner',\n",
       "       'TossDecision', 'SuperOver', 'WinningTeam', 'WonBy'],\n",
       "      dtype='object')"
      ]
     },
     "execution_count": 92,
     "metadata": {},
     "output_type": "execute_result"
    }
   ],
   "source": [
    "df.columns"
   ]
  },
  {
   "cell_type": "code",
   "execution_count": 94,
   "id": "b7571fdc-d2d0-4004-a418-08ec0f7e121b",
   "metadata": {},
   "outputs": [
    {
     "data": {
      "text/plain": [
       "array(['Ahmedabad', 'Kolkata', 'Mumbai', 'Navi Mumbai', 'Pune', 'Dubai',\n",
       "       'Sharjah', 'Abu Dhabi', 'Delhi', 'Chennai', 'Foreign', 'Hyderabad',\n",
       "       'Visakhapatnam', 'Chandigarh', 'Bengaluru', 'Jaipur', 'Indore',\n",
       "       'Bangalore', 'Kanpur', 'Rajkot', 'Raipur', 'Ranchi', 'Cuttack',\n",
       "       'Dharamsala', 'Johannesburg', 'Centurion', 'Durban',\n",
       "       'Bloemfontein', 'Port Elizabeth', 'Kimberley', 'East London',\n",
       "       'Cape Town'], dtype=object)"
      ]
     },
     "execution_count": 94,
     "metadata": {},
     "output_type": "execute_result"
    }
   ],
   "source": [
    "df['City'].unique()"
   ]
  },
  {
   "cell_type": "code",
   "execution_count": 96,
   "id": "cd8f97f3-2cbf-43be-9d93-69f436910059",
   "metadata": {},
   "outputs": [],
   "source": [
    "lst=df['City'].to_list()"
   ]
  },
  {
   "cell_type": "code",
   "execution_count": 101,
   "id": "fb816422-5157-4679-a75e-16812c31e0a4",
   "metadata": {},
   "outputs": [],
   "source": [
    "lst\n",
    "lst1=[]\n",
    "for i in lst:\n",
    "    if(i=='Ahmedabad'):\n",
    "        lst1.append('Gujarat Titans')\n",
    "    elif (i=='Kolkata'):\n",
    "        lst1.append('Kolkata Knight Riders')\n",
    "    elif (i=='Mumbai'):\n",
    "        lst1.append('Mumbai Indians')\n",
    "    elif (i=='Navi Mumbai'):\n",
    "        lst1.append('Mumbai Indians')\n",
    "    elif (i=='Pune'):\n",
    "        lst1.append('Chennai Super Kings')\n",
    "    elif (i=='Delhi'):\n",
    "        lst1.append('Delhi Capitals')\n",
    "    elif (i=='Chennai'):\n",
    "        lst1.append('Chennai Super Kings')\n",
    "    elif (i=='Hyderabad'):\n",
    "        lst1.append('Sunrisers Hyderabad')\n",
    "    elif (i=='Visakhapatnam'):\n",
    "        lst1.append('Sunrisers Hyderabad')\n",
    "    elif (i=='Chandigarh'):\n",
    "        lst1.append('Punjab Kings')\n",
    "    elif (i=='Bengaluru'):\n",
    "        lst1.append('Royal Challengers Bangalore')\n",
    "    elif (i=='Jaipur'):\n",
    "        lst1.append('Rajasthan Royals')\n",
    "    elif (i=='Bangalore'):\n",
    "        lst1.append('Royal Challengers Bangalore')\n",
    "    elif(i=='Rajkot'):\n",
    "        lst1.append('Gujarat Titans')\n",
    "    else:\n",
    "        lst1.append('Out')"
   ]
  },
  {
   "cell_type": "code",
   "execution_count": 102,
   "id": "347a2fb6-c570-4304-b737-26fc20dbae2c",
   "metadata": {},
   "outputs": [],
   "source": [
    "df['HomeTeam']=lst1"
   ]
  },
  {
   "cell_type": "code",
   "execution_count": 103,
   "id": "eee36b14-5e41-4c1d-9b01-89be80be00b7",
   "metadata": {},
   "outputs": [
    {
     "data": {
      "text/html": [
       "<div>\n",
       "<style scoped>\n",
       "    .dataframe tbody tr th:only-of-type {\n",
       "        vertical-align: middle;\n",
       "    }\n",
       "\n",
       "    .dataframe tbody tr th {\n",
       "        vertical-align: top;\n",
       "    }\n",
       "\n",
       "    .dataframe thead th {\n",
       "        text-align: right;\n",
       "    }\n",
       "</style>\n",
       "<table border=\"1\" class=\"dataframe\">\n",
       "  <thead>\n",
       "    <tr style=\"text-align: right;\">\n",
       "      <th></th>\n",
       "      <th>City</th>\n",
       "      <th>Season</th>\n",
       "      <th>Team1</th>\n",
       "      <th>Team2</th>\n",
       "      <th>Venue</th>\n",
       "      <th>TossWinner</th>\n",
       "      <th>TossDecision</th>\n",
       "      <th>SuperOver</th>\n",
       "      <th>WinningTeam</th>\n",
       "      <th>WonBy</th>\n",
       "      <th>HomeTeam</th>\n",
       "    </tr>\n",
       "  </thead>\n",
       "  <tbody>\n",
       "    <tr>\n",
       "      <th>0</th>\n",
       "      <td>Ahmedabad</td>\n",
       "      <td>2022</td>\n",
       "      <td>Rajasthan Royals</td>\n",
       "      <td>Gujarat Titans</td>\n",
       "      <td>Narendra Modi Stadium, Ahmedabad</td>\n",
       "      <td>Rajasthan Royals</td>\n",
       "      <td>bat</td>\n",
       "      <td>N</td>\n",
       "      <td>Gujarat Titans</td>\n",
       "      <td>Wickets</td>\n",
       "      <td>Gujarat Titans</td>\n",
       "    </tr>\n",
       "    <tr>\n",
       "      <th>1</th>\n",
       "      <td>Ahmedabad</td>\n",
       "      <td>2022</td>\n",
       "      <td>Royal Challengers Bangalore</td>\n",
       "      <td>Rajasthan Royals</td>\n",
       "      <td>Narendra Modi Stadium, Ahmedabad</td>\n",
       "      <td>Rajasthan Royals</td>\n",
       "      <td>field</td>\n",
       "      <td>N</td>\n",
       "      <td>Rajasthan Royals</td>\n",
       "      <td>Wickets</td>\n",
       "      <td>Gujarat Titans</td>\n",
       "    </tr>\n",
       "    <tr>\n",
       "      <th>2</th>\n",
       "      <td>Kolkata</td>\n",
       "      <td>2022</td>\n",
       "      <td>Royal Challengers Bangalore</td>\n",
       "      <td>Lucknow Super Giants</td>\n",
       "      <td>Eden Gardens, Kolkata</td>\n",
       "      <td>Lucknow Super Giants</td>\n",
       "      <td>field</td>\n",
       "      <td>N</td>\n",
       "      <td>Royal Challengers Bangalore</td>\n",
       "      <td>Runs</td>\n",
       "      <td>Kolkata Knight Riders</td>\n",
       "    </tr>\n",
       "    <tr>\n",
       "      <th>3</th>\n",
       "      <td>Kolkata</td>\n",
       "      <td>2022</td>\n",
       "      <td>Rajasthan Royals</td>\n",
       "      <td>Gujarat Titans</td>\n",
       "      <td>Eden Gardens, Kolkata</td>\n",
       "      <td>Gujarat Titans</td>\n",
       "      <td>field</td>\n",
       "      <td>N</td>\n",
       "      <td>Gujarat Titans</td>\n",
       "      <td>Wickets</td>\n",
       "      <td>Kolkata Knight Riders</td>\n",
       "    </tr>\n",
       "    <tr>\n",
       "      <th>4</th>\n",
       "      <td>Mumbai</td>\n",
       "      <td>2022</td>\n",
       "      <td>Sunrisers Hyderabad</td>\n",
       "      <td>Punjab Kings</td>\n",
       "      <td>Wankhede Stadium, Mumbai</td>\n",
       "      <td>Sunrisers Hyderabad</td>\n",
       "      <td>bat</td>\n",
       "      <td>N</td>\n",
       "      <td>Punjab Kings</td>\n",
       "      <td>Wickets</td>\n",
       "      <td>Mumbai Indians</td>\n",
       "    </tr>\n",
       "    <tr>\n",
       "      <th>...</th>\n",
       "      <td>...</td>\n",
       "      <td>...</td>\n",
       "      <td>...</td>\n",
       "      <td>...</td>\n",
       "      <td>...</td>\n",
       "      <td>...</td>\n",
       "      <td>...</td>\n",
       "      <td>...</td>\n",
       "      <td>...</td>\n",
       "      <td>...</td>\n",
       "      <td>...</td>\n",
       "    </tr>\n",
       "    <tr>\n",
       "      <th>945</th>\n",
       "      <td>Kolkata</td>\n",
       "      <td>2008</td>\n",
       "      <td>Kolkata Knight Riders</td>\n",
       "      <td>Deccan Chargers</td>\n",
       "      <td>Eden Gardens</td>\n",
       "      <td>Deccan Chargers</td>\n",
       "      <td>bat</td>\n",
       "      <td>N</td>\n",
       "      <td>Kolkata Knight Riders</td>\n",
       "      <td>Wickets</td>\n",
       "      <td>Kolkata Knight Riders</td>\n",
       "    </tr>\n",
       "    <tr>\n",
       "      <th>946</th>\n",
       "      <td>Mumbai</td>\n",
       "      <td>2008</td>\n",
       "      <td>Mumbai Indians</td>\n",
       "      <td>Royal Challengers Bangalore</td>\n",
       "      <td>Wankhede Stadium</td>\n",
       "      <td>Mumbai Indians</td>\n",
       "      <td>bat</td>\n",
       "      <td>N</td>\n",
       "      <td>Royal Challengers Bangalore</td>\n",
       "      <td>Wickets</td>\n",
       "      <td>Mumbai Indians</td>\n",
       "    </tr>\n",
       "    <tr>\n",
       "      <th>947</th>\n",
       "      <td>Delhi</td>\n",
       "      <td>2008</td>\n",
       "      <td>Delhi Capitals</td>\n",
       "      <td>Rajasthan Royals</td>\n",
       "      <td>Feroz Shah Kotla</td>\n",
       "      <td>Rajasthan Royals</td>\n",
       "      <td>bat</td>\n",
       "      <td>N</td>\n",
       "      <td>Delhi Daredevils</td>\n",
       "      <td>Wickets</td>\n",
       "      <td>Delhi Capitals</td>\n",
       "    </tr>\n",
       "    <tr>\n",
       "      <th>948</th>\n",
       "      <td>Chandigarh</td>\n",
       "      <td>2008</td>\n",
       "      <td>Punjab Kings</td>\n",
       "      <td>Chennai Super Kings</td>\n",
       "      <td>Punjab Cricket Association Stadium, Mohali</td>\n",
       "      <td>Chennai Super Kings</td>\n",
       "      <td>bat</td>\n",
       "      <td>N</td>\n",
       "      <td>Chennai Super Kings</td>\n",
       "      <td>Runs</td>\n",
       "      <td>Punjab Kings</td>\n",
       "    </tr>\n",
       "    <tr>\n",
       "      <th>949</th>\n",
       "      <td>Bangalore</td>\n",
       "      <td>2008</td>\n",
       "      <td>Royal Challengers Bangalore</td>\n",
       "      <td>Kolkata Knight Riders</td>\n",
       "      <td>M Chinnaswamy Stadium</td>\n",
       "      <td>Royal Challengers Bangalore</td>\n",
       "      <td>field</td>\n",
       "      <td>N</td>\n",
       "      <td>Kolkata Knight Riders</td>\n",
       "      <td>Runs</td>\n",
       "      <td>Royal Challengers Bangalore</td>\n",
       "    </tr>\n",
       "  </tbody>\n",
       "</table>\n",
       "<p>881 rows × 11 columns</p>\n",
       "</div>"
      ],
      "text/plain": [
       "           City Season                        Team1  \\\n",
       "0     Ahmedabad   2022             Rajasthan Royals   \n",
       "1     Ahmedabad   2022  Royal Challengers Bangalore   \n",
       "2       Kolkata   2022  Royal Challengers Bangalore   \n",
       "3       Kolkata   2022             Rajasthan Royals   \n",
       "4        Mumbai   2022          Sunrisers Hyderabad   \n",
       "..          ...    ...                          ...   \n",
       "945     Kolkata   2008        Kolkata Knight Riders   \n",
       "946      Mumbai   2008               Mumbai Indians   \n",
       "947       Delhi   2008               Delhi Capitals   \n",
       "948  Chandigarh   2008                 Punjab Kings   \n",
       "949   Bangalore   2008  Royal Challengers Bangalore   \n",
       "\n",
       "                           Team2                                       Venue  \\\n",
       "0                 Gujarat Titans            Narendra Modi Stadium, Ahmedabad   \n",
       "1               Rajasthan Royals            Narendra Modi Stadium, Ahmedabad   \n",
       "2           Lucknow Super Giants                       Eden Gardens, Kolkata   \n",
       "3                 Gujarat Titans                       Eden Gardens, Kolkata   \n",
       "4                   Punjab Kings                    Wankhede Stadium, Mumbai   \n",
       "..                           ...                                         ...   \n",
       "945              Deccan Chargers                                Eden Gardens   \n",
       "946  Royal Challengers Bangalore                            Wankhede Stadium   \n",
       "947             Rajasthan Royals                            Feroz Shah Kotla   \n",
       "948          Chennai Super Kings  Punjab Cricket Association Stadium, Mohali   \n",
       "949        Kolkata Knight Riders                       M Chinnaswamy Stadium   \n",
       "\n",
       "                      TossWinner TossDecision SuperOver  \\\n",
       "0               Rajasthan Royals          bat         N   \n",
       "1               Rajasthan Royals        field         N   \n",
       "2           Lucknow Super Giants        field         N   \n",
       "3                 Gujarat Titans        field         N   \n",
       "4            Sunrisers Hyderabad          bat         N   \n",
       "..                           ...          ...       ...   \n",
       "945              Deccan Chargers          bat         N   \n",
       "946               Mumbai Indians          bat         N   \n",
       "947             Rajasthan Royals          bat         N   \n",
       "948          Chennai Super Kings          bat         N   \n",
       "949  Royal Challengers Bangalore        field         N   \n",
       "\n",
       "                     WinningTeam    WonBy                     HomeTeam  \n",
       "0                 Gujarat Titans  Wickets               Gujarat Titans  \n",
       "1               Rajasthan Royals  Wickets               Gujarat Titans  \n",
       "2    Royal Challengers Bangalore     Runs        Kolkata Knight Riders  \n",
       "3                 Gujarat Titans  Wickets        Kolkata Knight Riders  \n",
       "4                   Punjab Kings  Wickets               Mumbai Indians  \n",
       "..                           ...      ...                          ...  \n",
       "945        Kolkata Knight Riders  Wickets        Kolkata Knight Riders  \n",
       "946  Royal Challengers Bangalore  Wickets               Mumbai Indians  \n",
       "947             Delhi Daredevils  Wickets               Delhi Capitals  \n",
       "948          Chennai Super Kings     Runs                 Punjab Kings  \n",
       "949        Kolkata Knight Riders     Runs  Royal Challengers Bangalore  \n",
       "\n",
       "[881 rows x 11 columns]"
      ]
     },
     "execution_count": 103,
     "metadata": {},
     "output_type": "execute_result"
    }
   ],
   "source": [
    "df"
   ]
  },
  {
   "cell_type": "code",
   "execution_count": 104,
   "id": "937abc8c-52dc-49ca-bb93-1a1ac869e327",
   "metadata": {},
   "outputs": [],
   "source": [
    "df.drop(['City'], axis=1,inplace=True)"
   ]
  },
  {
   "cell_type": "code",
   "execution_count": 106,
   "id": "e8268af7-1b98-4b75-8b77-c04560e07da0",
   "metadata": {},
   "outputs": [],
   "source": [
    "df.drop(['Venue'], axis=1,inplace=True)"
   ]
  },
  {
   "cell_type": "code",
   "execution_count": 108,
   "id": "a3c3f5e8-9fe4-4096-a2a4-efc8003039fb",
   "metadata": {},
   "outputs": [],
   "source": [
    "df.drop(['WonBy'], axis=1,inplace=True)"
   ]
  },
  {
   "cell_type": "code",
   "execution_count": 109,
   "id": "52f1cbfa-28f1-4f4b-9ee5-448660676bda",
   "metadata": {},
   "outputs": [
    {
     "data": {
      "text/html": [
       "<div>\n",
       "<style scoped>\n",
       "    .dataframe tbody tr th:only-of-type {\n",
       "        vertical-align: middle;\n",
       "    }\n",
       "\n",
       "    .dataframe tbody tr th {\n",
       "        vertical-align: top;\n",
       "    }\n",
       "\n",
       "    .dataframe thead th {\n",
       "        text-align: right;\n",
       "    }\n",
       "</style>\n",
       "<table border=\"1\" class=\"dataframe\">\n",
       "  <thead>\n",
       "    <tr style=\"text-align: right;\">\n",
       "      <th></th>\n",
       "      <th>Season</th>\n",
       "      <th>Team1</th>\n",
       "      <th>Team2</th>\n",
       "      <th>TossWinner</th>\n",
       "      <th>TossDecision</th>\n",
       "      <th>SuperOver</th>\n",
       "      <th>WinningTeam</th>\n",
       "      <th>HomeTeam</th>\n",
       "    </tr>\n",
       "  </thead>\n",
       "  <tbody>\n",
       "    <tr>\n",
       "      <th>0</th>\n",
       "      <td>2022</td>\n",
       "      <td>Rajasthan Royals</td>\n",
       "      <td>Gujarat Titans</td>\n",
       "      <td>Rajasthan Royals</td>\n",
       "      <td>bat</td>\n",
       "      <td>N</td>\n",
       "      <td>Gujarat Titans</td>\n",
       "      <td>Gujarat Titans</td>\n",
       "    </tr>\n",
       "    <tr>\n",
       "      <th>1</th>\n",
       "      <td>2022</td>\n",
       "      <td>Royal Challengers Bangalore</td>\n",
       "      <td>Rajasthan Royals</td>\n",
       "      <td>Rajasthan Royals</td>\n",
       "      <td>field</td>\n",
       "      <td>N</td>\n",
       "      <td>Rajasthan Royals</td>\n",
       "      <td>Gujarat Titans</td>\n",
       "    </tr>\n",
       "    <tr>\n",
       "      <th>2</th>\n",
       "      <td>2022</td>\n",
       "      <td>Royal Challengers Bangalore</td>\n",
       "      <td>Lucknow Super Giants</td>\n",
       "      <td>Lucknow Super Giants</td>\n",
       "      <td>field</td>\n",
       "      <td>N</td>\n",
       "      <td>Royal Challengers Bangalore</td>\n",
       "      <td>Kolkata Knight Riders</td>\n",
       "    </tr>\n",
       "    <tr>\n",
       "      <th>3</th>\n",
       "      <td>2022</td>\n",
       "      <td>Rajasthan Royals</td>\n",
       "      <td>Gujarat Titans</td>\n",
       "      <td>Gujarat Titans</td>\n",
       "      <td>field</td>\n",
       "      <td>N</td>\n",
       "      <td>Gujarat Titans</td>\n",
       "      <td>Kolkata Knight Riders</td>\n",
       "    </tr>\n",
       "    <tr>\n",
       "      <th>4</th>\n",
       "      <td>2022</td>\n",
       "      <td>Sunrisers Hyderabad</td>\n",
       "      <td>Punjab Kings</td>\n",
       "      <td>Sunrisers Hyderabad</td>\n",
       "      <td>bat</td>\n",
       "      <td>N</td>\n",
       "      <td>Punjab Kings</td>\n",
       "      <td>Mumbai Indians</td>\n",
       "    </tr>\n",
       "  </tbody>\n",
       "</table>\n",
       "</div>"
      ],
      "text/plain": [
       "  Season                        Team1                 Team2  \\\n",
       "0   2022             Rajasthan Royals        Gujarat Titans   \n",
       "1   2022  Royal Challengers Bangalore      Rajasthan Royals   \n",
       "2   2022  Royal Challengers Bangalore  Lucknow Super Giants   \n",
       "3   2022             Rajasthan Royals        Gujarat Titans   \n",
       "4   2022          Sunrisers Hyderabad          Punjab Kings   \n",
       "\n",
       "             TossWinner TossDecision SuperOver                  WinningTeam  \\\n",
       "0      Rajasthan Royals          bat         N               Gujarat Titans   \n",
       "1      Rajasthan Royals        field         N             Rajasthan Royals   \n",
       "2  Lucknow Super Giants        field         N  Royal Challengers Bangalore   \n",
       "3        Gujarat Titans        field         N               Gujarat Titans   \n",
       "4   Sunrisers Hyderabad          bat         N                 Punjab Kings   \n",
       "\n",
       "                HomeTeam  \n",
       "0         Gujarat Titans  \n",
       "1         Gujarat Titans  \n",
       "2  Kolkata Knight Riders  \n",
       "3  Kolkata Knight Riders  \n",
       "4         Mumbai Indians  "
      ]
     },
     "execution_count": 109,
     "metadata": {},
     "output_type": "execute_result"
    }
   ],
   "source": [
    "df.head(5)"
   ]
  },
  {
   "cell_type": "code",
   "execution_count": 114,
   "id": "febf21b6-8ac4-43c9-894a-e61192377f63",
   "metadata": {},
   "outputs": [
    {
     "data": {
      "text/plain": [
       "array(['2022', '2021', 2020, '2019', '2018', '2017', '2016', '2015',\n",
       "       '2014', '2013', '2012', '2011', 2010, '2009', 2008], dtype=object)"
      ]
     },
     "execution_count": 114,
     "metadata": {},
     "output_type": "execute_result"
    }
   ],
   "source": [
    "df['Season'].unique()"
   ]
  },
  {
   "cell_type": "code",
   "execution_count": 115,
   "id": "0ddf3633-8400-4101-8ebc-e1e650161ee5",
   "metadata": {},
   "outputs": [
    {
     "data": {
      "text/plain": [
       "array(['Rajasthan Royals', 'Royal Challengers Bangalore',\n",
       "       'Sunrisers Hyderabad', 'Delhi Capitals', 'Chennai Super Kings',\n",
       "       'Gujarat Titans', 'Lucknow Super Giants', 'Kolkata Knight Riders',\n",
       "       'Punjab Kings', 'Mumbai Indians'], dtype=object)"
      ]
     },
     "execution_count": 115,
     "metadata": {},
     "output_type": "execute_result"
    }
   ],
   "source": [
    "df['Team1'].unique()"
   ]
  },
  {
   "cell_type": "code",
   "execution_count": 118,
   "id": "db0a7de2-8f05-49cd-b6c6-c27a3279e6fd",
   "metadata": {},
   "outputs": [
    {
     "data": {
      "text/plain": [
       "array(['Gujarat Titans', 'Rajasthan Royals', 'Lucknow Super Giants',\n",
       "       'Punjab Kings', 'Mumbai Indians', 'Royal Challengers Bangalore',\n",
       "       'Kolkata Knight Riders', 'Sunrisers Hyderabad', 'Delhi Capitals',\n",
       "       'Chennai Super Kings'], dtype=object)"
      ]
     },
     "execution_count": 118,
     "metadata": {},
     "output_type": "execute_result"
    }
   ],
   "source": [
    "df['Team2'].unique()"
   ]
  },
  {
   "cell_type": "code",
   "execution_count": 126,
   "id": "2b261bca-8404-416d-bf68-83d882201ac4",
   "metadata": {},
   "outputs": [
    {
     "data": {
      "text/plain": [
       "array(['Rajasthan Royals', 'Lucknow Super Giants', 'Gujarat Titans',\n",
       "       'Sunrisers Hyderabad', 'Mumbai Indians', 'Chennai Super Kings',\n",
       "       'Punjab Kings', 'Kolkata Knight Riders',\n",
       "       'Royal Challengers Bangalore', 'Delhi Capitals'], dtype=object)"
      ]
     },
     "execution_count": 126,
     "metadata": {},
     "output_type": "execute_result"
    }
   ],
   "source": [
    "df['TossWinner'].unique()"
   ]
  },
  {
   "cell_type": "code",
   "execution_count": 127,
   "id": "ee8e8890-20b6-4e3f-be39-8de0df18d87b",
   "metadata": {},
   "outputs": [
    {
     "data": {
      "text/plain": [
       "array(['Gujarat Titans', 'Rajasthan Royals',\n",
       "       'Royal Challengers Bangalore', 'Punjab Kings', 'Mumbai Indians',\n",
       "       'Lucknow Super Giants', 'Sunrisers Hyderabad', 'Delhi Capitals',\n",
       "       'Kolkata Knight Riders', 'Chennai Super Kings', 'None'],\n",
       "      dtype=object)"
      ]
     },
     "execution_count": 127,
     "metadata": {},
     "output_type": "execute_result"
    }
   ],
   "source": [
    "df['WinningTeam'].unique()"
   ]
  },
  {
   "cell_type": "code",
   "execution_count": 129,
   "id": "549419ef-e3de-489d-b22a-c4032bb2ae63",
   "metadata": {},
   "outputs": [
    {
     "data": {
      "text/plain": [
       "array(['Gujarat Titans', 'Kolkata Knight Riders', 'Mumbai Indians',\n",
       "       'Chennai Super Kings', 'Out', 'Delhi Capitals',\n",
       "       'Sunrisers Hyderabad', 'Punjab Kings',\n",
       "       'Royal Challengers Bangalore', 'Rajasthan Royals'], dtype=object)"
      ]
     },
     "execution_count": 129,
     "metadata": {},
     "output_type": "execute_result"
    }
   ],
   "source": [
    "df['HomeTeam'].unique()"
   ]
  },
  {
   "cell_type": "code",
   "execution_count": 132,
   "id": "2b30a853-db3b-4cf1-a309-3ba072dfe298",
   "metadata": {},
   "outputs": [
    {
     "name": "stdout",
     "output_type": "stream",
     "text": [
      "<class 'pandas.core.frame.DataFrame'>\n",
      "Int64Index: 821 entries, 0 to 949\n",
      "Data columns (total 8 columns):\n",
      " #   Column        Non-Null Count  Dtype \n",
      "---  ------        --------------  ----- \n",
      " 0   Season        821 non-null    object\n",
      " 1   Team1         821 non-null    object\n",
      " 2   Team2         821 non-null    object\n",
      " 3   TossWinner    821 non-null    object\n",
      " 4   TossDecision  821 non-null    object\n",
      " 5   SuperOver     821 non-null    object\n",
      " 6   WinningTeam   821 non-null    object\n",
      " 7   HomeTeam      821 non-null    object\n",
      "dtypes: object(8)\n",
      "memory usage: 57.7+ KB\n"
     ]
    }
   ],
   "source": [
    "df.info()"
   ]
  },
  {
   "cell_type": "code",
   "execution_count": 134,
   "id": "956b1bf8-59d5-43dc-b6c2-3c088033c510",
   "metadata": {},
   "outputs": [
    {
     "data": {
      "text/plain": [
       "Season          821\n",
       "Team1           821\n",
       "Team2           821\n",
       "TossWinner      821\n",
       "TossDecision    821\n",
       "SuperOver       821\n",
       "WinningTeam     821\n",
       "HomeTeam        821\n",
       "dtype: int64"
      ]
     },
     "execution_count": 134,
     "metadata": {},
     "output_type": "execute_result"
    }
   ],
   "source": [
    "df.isnull().count()"
   ]
  },
  {
   "cell_type": "markdown",
   "id": "87281476-09e4-4572-b5b6-078ba4cecfdb",
   "metadata": {},
   "source": [
    "### Data Analysis Model\n",
    "- Team1=Chennai Super Kings\n",
    "- Team2=Mumbai Indians"
   ]
  },
  {
   "cell_type": "code",
   "execution_count": 520,
   "id": "248e9a14-3833-4faa-bb94-d9939c4e767c",
   "metadata": {},
   "outputs": [],
   "source": [
    "import pandas as pd\n",
    "df=pd.read_csv('Cleaned.csv')"
   ]
  },
  {
   "cell_type": "code",
   "execution_count": 521,
   "id": "7bea7a13-4ed2-4672-bc52-d0575fab74e1",
   "metadata": {},
   "outputs": [],
   "source": [
    "a='Chennai Super Kings'\n",
    "b='Kolkata Knight Riders'"
   ]
  },
  {
   "cell_type": "code",
   "execution_count": 522,
   "id": "79182ef1-ceda-4b78-b9d7-ecc106777c80",
   "metadata": {},
   "outputs": [],
   "source": [
    "lst=[a,b]"
   ]
  },
  {
   "cell_type": "code",
   "execution_count": 523,
   "id": "294b223d-a849-4060-9edd-194e36ef1fb2",
   "metadata": {},
   "outputs": [],
   "source": [
    "df1=df[df['Team1'].isin(lst)]"
   ]
  },
  {
   "cell_type": "code",
   "execution_count": 524,
   "id": "d1b3fb63-4c9e-4b4c-a63d-5da19aa118b3",
   "metadata": {},
   "outputs": [],
   "source": [
    "df2=df1[df1['Team2'].isin(lst)]"
   ]
  },
  {
   "cell_type": "code",
   "execution_count": 525,
   "id": "5cbe8d22-4dae-42fc-97b4-7b83885c72d0",
   "metadata": {},
   "outputs": [],
   "source": [
    "Total_Matches_Played=df2.count()[0]"
   ]
  },
  {
   "cell_type": "code",
   "execution_count": 526,
   "id": "12fbb079-a2c5-4553-9182-bf9180e5993a",
   "metadata": {},
   "outputs": [],
   "source": [
    "a_won=df2[df2['WinningTeam']==a].count()[0]\n",
    "b_won=df2[df2['WinningTeam']==b].count()[0]\n",
    "draw=df2[df2['SuperOver']=='Y'].count()[0]"
   ]
  },
  {
   "cell_type": "code",
   "execution_count": 527,
   "id": "811a52d1-d9a1-40e9-9cbb-bf4c121a31b1",
   "metadata": {},
   "outputs": [],
   "source": [
    "a_homeground=df2[df2['HomeTeam']==a].count()[0]\n",
    "b_homeground=df2[df2['HomeTeam']==b].count()[0]"
   ]
  },
  {
   "cell_type": "code",
   "execution_count": 528,
   "id": "96bf3bc0-a404-4cd0-980b-3a8f93e50266",
   "metadata": {},
   "outputs": [],
   "source": [
    "a_toss_winner=df2[df2['TossWinner']==a].count()[0]\n",
    "b_toss_winner=df2[df2['TossWinner']==b].count()[0]"
   ]
  },
  {
   "cell_type": "code",
   "execution_count": 529,
   "id": "aba26294-8c72-4468-afae-67826e7b8ce8",
   "metadata": {},
   "outputs": [],
   "source": [
    "df3=df2[df2['TossWinner']==a]\n",
    "a_tosswin_and_matchwin=df3[df3['WinningTeam']==a].count()[0]"
   ]
  },
  {
   "cell_type": "code",
   "execution_count": 530,
   "id": "35ebc7ce-f305-4320-a507-b4dce30d1482",
   "metadata": {},
   "outputs": [],
   "source": [
    "df3=df2[df2['TossWinner']==b]\n",
    "b_tosswin_and_matchwin=df3[df3['WinningTeam']==b].count()[0]"
   ]
  },
  {
   "cell_type": "code",
   "execution_count": 531,
   "id": "3ca9da5a-2d6f-42e2-9e9b-8be7be0bf5cb",
   "metadata": {},
   "outputs": [],
   "source": [
    "df4=df2[df2['HomeTeam']==a]\n",
    "a_homeground_win=df4[df4['WinningTeam']==a].count()[0]"
   ]
  },
  {
   "cell_type": "code",
   "execution_count": 532,
   "id": "c625704a-9f33-4fec-b3f0-7887823ed4dd",
   "metadata": {},
   "outputs": [],
   "source": [
    "df4=df2[df2['HomeTeam']==b]\n",
    "b_homeground_win=df4[df4['WinningTeam']==b].count()[0]"
   ]
  },
  {
   "cell_type": "code",
   "execution_count": 533,
   "id": "368d0afa-7210-4a8e-8609-b0e861f7f18d",
   "metadata": {},
   "outputs": [],
   "source": [
    "df4=df2[df2['HomeTeam']==b]\n",
    "b_homeground_awin=df4[df4['WinningTeam']==a].count()[0]\n",
    "df4=df2[df2['HomeTeam']==a]\n",
    "a_homeground_bwin=df4[df4['WinningTeam']==b].count()[0]"
   ]
  },
  {
   "cell_type": "code",
   "execution_count": 534,
   "id": "88d7f673-ff32-41e2-a519-858815d37e48",
   "metadata": {},
   "outputs": [],
   "source": [
    "df4=df2[df2['HomeTeam']=='out']\n",
    "a_out_win=df4[df4['WinningTeam']==a].count()[0]\n"
   ]
  },
  {
   "cell_type": "code",
   "execution_count": 535,
   "id": "df1054da-b8b3-4226-9551-27570701a8b8",
   "metadata": {},
   "outputs": [],
   "source": [
    "df4=df2[df2['HomeTeam']=='out']\n",
    "b_out_win=df4[df4['WinningTeam']==b].count()[0]"
   ]
  },
  {
   "cell_type": "markdown",
   "id": "151a4643-c6cb-45e5-8034-0fc359ca1508",
   "metadata": {},
   "source": [
    "### Statistics"
   ]
  },
  {
   "cell_type": "code",
   "execution_count": 536,
   "id": "6f2dcf4f-4959-42d7-b376-986e41be191b",
   "metadata": {},
   "outputs": [],
   "source": [
    "if a=='Chennai Super Kings':\n",
    "    i='#f7f414'\n",
    "elif a=='Rajasthan Royals':\n",
    "    i='#f507ae'\n",
    "elif a=='Royal Challengers Bangalore':\n",
    "    i='#fa0e0a'\n",
    "elif a=='Sunrisers Hyderabad':\n",
    "    i='#ee7429'\n",
    "elif a=='Delhi Capitals':\n",
    "    i='#d71921'\n",
    "elif a=='Gujarat Titans':\n",
    "    i='#1B2133'\n",
    "elif a=='Lucknow Super Giants':\n",
    "    i='#8ad8ee'\n",
    "elif a=='Kolkata Knight Riders':\n",
    "    i='#3A225D'\n",
    "elif a=='Punjab Kings':\n",
    "    i='#dd1f2d'\n",
    "elif a=='Mumbai Indians':\n",
    "    i='#004b8d'\n",
    "    \n",
    "    \n",
    "    \n",
    "if b=='Chennai Super Kings':\n",
    "    j='#f7f414'\n",
    "elif b=='Rajasthan Royals':\n",
    "    j='#f507ae'\n",
    "elif b=='Royal Challengers Bangalore':\n",
    "    j='#fa0e0a'\n",
    "elif b=='Sunrisers Hyderabad':\n",
    "    j='#ee7429'\n",
    "elif b=='Delhi Capitals':\n",
    "    j='#d71921'\n",
    "elif b=='Gujarat Titans':\n",
    "    j='#1B2133'\n",
    "elif b=='Lucknow Super Giants':\n",
    "    j='#8ad8ee'\n",
    "elif b=='Kolkata Knight Riders':\n",
    "    j='#3A225D'\n",
    "elif b=='Punjab Kings':\n",
    "    j='#dd1f2d'\n",
    "elif b=='Mumbai Indians':\n",
    "    j='#004b8d'"
   ]
  },
  {
   "cell_type": "code",
   "execution_count": 554,
   "id": "b4c4c7ed-c416-4156-8e96-0d897c4efdfc",
   "metadata": {},
   "outputs": [
    {
     "data": {
      "image/png": "[encoded data removed]",
      "text/plain": [
       "<Figure size 640x480 with 1 Axes>"
      ]
     },
     "metadata": {},
     "output_type": "display_data"
    }
   ],
   "source": [
    "# importing libraries\n",
    "import matplotlib.pyplot as plt\n",
    "import seaborn\n",
    "# declaring data\n",
    "data = [a_won,b_won,draw]\n",
    "keys = [a+' Win',b+' Win','Draw']\n",
    "colors = [i,j,'#1c1c1c']\n",
    "# define Seaborn color palette to use\n",
    "palette_color = seaborn.color_palette('bright')\n",
    "explode = [0.1, 0.1, 0]\n",
    "# plotting data on chart\n",
    "plt.pie(data, labels=keys, autopct='%.0f%%',explode=explode,wedgeprops = { 'linewidth' : 2, 'edgecolor' : 'white' },colors=colors, shadow=True, startangle=150)\n",
    "plt.title(\"Match Win Percentage\", bbox={'facecolor':'0.8', 'pad':3})\n",
    "plt.show()"
   ]
  },
  {
   "cell_type": "code",
   "execution_count": 538,
   "id": "6505c8c5-87bd-4106-8b31-4c57047a24c4",
   "metadata": {},
   "outputs": [
    {
     "data": {
      "image/png": "[encoded data removed]",
      "text/plain": [
       "<Figure size 640x480 with 1 Axes>"
      ]
     },
     "metadata": {},
     "output_type": "display_data"
    }
   ],
   "source": [
    "# importing libraries\n",
    "import matplotlib.pyplot as plt\n",
    "import seaborn\n",
    "# declaring data\n",
    "data = [a_tosswin_and_matchwin,b_tosswin_and_matchwin,draw]\n",
    "keys = [a+' Win',b+' Win','Draw']\n",
    "colors = [i,j,'#1c1c1c']\n",
    "# define Seaborn color palette to use\n",
    "palette_color = seaborn.color_palette('bright')\n",
    "explode = [0.1, 0.1, 0]\n",
    "# plotting data on chart\n",
    "plt.pie(data, labels=keys, autopct='%.0f%%',explode=explode,wedgeprops = { 'linewidth' : 2, 'edgecolor' : 'white' },colors=colors, shadow=True, startangle=150)\n",
    "  \n",
    "plt.title(\"Team After Winning Toss Win Percentage\", bbox={'facecolor':'0.8', 'pad':3})\n",
    "plt.show()"
   ]
  },
  {
   "cell_type": "code",
   "execution_count": 539,
   "id": "02aa4de6-33ad-4412-bf6d-ef34eb78d198",
   "metadata": {},
   "outputs": [],
   "source": [
    "a_hometeam=a.split()[0]\n",
    "b_hometeam=b.split()[0]\n",
    "if(a=='Royal Challengers Bangalore'):\n",
    "    a_hometeam=a.split()[2]\n",
    "elif(b=='Royal Challengers Bangalore'):\n",
    "    b_hometeam=b.split()[2]\n",
    "elif(a=='Sunrisers Hyderabad'):\n",
    "    a_hometeam=a.split()[1]\n",
    "elif(b=='Sunrisers Hyderabad'):\n",
    "    b_hometeam=b.split()[1]"
   ]
  },
  {
   "cell_type": "code",
   "execution_count": 540,
   "id": "9a452b37-7f52-439f-baf1-d5c1a53afff0",
   "metadata": {},
   "outputs": [],
   "source": [
    "df5=pd.DataFrame({'Host Team':[a_hometeam,a_hometeam,b_hometeam,b_hometeam,'Away','Away'],'Team':[a,b,a,b,a,b],'Win':[a_homeground_win,a_homeground_bwin,b_homeground_awin,b_homeground_win,a_out_win,b_out_win]})"
   ]
  },
  {
   "cell_type": "code",
   "execution_count": 541,
   "id": "5f445ad8-92a6-4b88-84e4-ff42ab40ad88",
   "metadata": {},
   "outputs": [
    {
     "data": {
      "image/png": "[encoded data removed]",
      "text/plain": [
       "<Figure size 640x480 with 1 Axes>"
      ]
     },
     "metadata": {},
     "output_type": "display_data"
    }
   ],
   "source": [
    "import matplotlib.pyplot as plt\n",
    "\n",
    "import seaborn as sns\n",
    "ax=sns.barplot(x=\"Host Team\",y=\"Win\",hue=\"Team\",data=df5,palette=[i,j],)\n",
    "for container in ax.containers:\n",
    "    ax.bar_label(container)\n",
    "plt.legend(loc='upper right')\n",
    "plt.title(\"Matches Win in Homeground and Away from Home\", bbox={'facecolor':'0.8', 'pad':3})\n",
    "plt.show()"
   ]
  },
  {
   "cell_type": "code",
   "execution_count": 542,
   "id": "6ec28ef5-24be-4576-84d0-02e5584237e8",
   "metadata": {},
   "outputs": [],
   "source": [
    "df6=df1[(df1['Team1']==a) | (df1['Team2']==a)]\n",
    "df7=df6[df6['TossWinner']==a]\n",
    "a_bat=df7[df7['TossDecision']=='bat'].count()[0]\n",
    "df8=df7[df7['TossDecision']=='bat']\n",
    "a_bowl_win=df8[df8['WinningTeam']==a].count()[0]\n",
    "\n",
    "\n",
    "df6=df1[(df1['Team1']==a) | (df1['Team2']==a)]\n",
    "df7=df6[df6['TossWinner']==a]\n",
    "a_field=df7[df7['TossDecision']=='field'].count()[0]\n",
    "df8=df7[df7['TossDecision']=='field']\n",
    "a_chase_win=df8[df8['WinningTeam']==a].count()[0]"
   ]
  },
  {
   "cell_type": "code",
   "execution_count": 543,
   "id": "18a0a7d0-7240-4cf8-b22c-95e7430ae52c",
   "metadata": {},
   "outputs": [],
   "source": [
    "df6=df1[(df1['Team1']==b) | (df1['Team2']==b)]\n",
    "df7=df6[df6['TossWinner']==b]\n",
    "b_bat=df7[df7['TossDecision']=='bat'].count()[0]\n",
    "df8=df7[df7['TossDecision']=='bat']\n",
    "b_bowl_win=df8[df8['WinningTeam']==b].count()[0]\n",
    "\n",
    "\n",
    "df6=df1[(df1['Team1']==b) | (df1['Team2']==b)]\n",
    "df7=df6[df6['TossWinner']==b]\n",
    "b_field=df7[df7['TossDecision']=='field'].count()[0]\n",
    "df8=df7[df7['TossDecision']=='field']\n",
    "b_chase_win=df8[df8['WinningTeam']==b].count()[0]"
   ]
  },
  {
   "cell_type": "code",
   "execution_count": 544,
   "id": "ac9771b1-a8fd-4377-b2cf-11bc07481113",
   "metadata": {},
   "outputs": [
    {
     "data": {
      "image/png": "[encoded data removed]",
      "text/plain": [
       "<Figure size 640x480 with 1 Axes>"
      ]
     },
     "metadata": {},
     "output_type": "display_data"
    }
   ],
   "source": [
    "# importing libraries\n",
    "import matplotlib.pyplot as plt\n",
    "import seaborn\n",
    "# declaring data\n",
    "data = [a_bat,a_field]\n",
    "keys = ['Batting','Fielding']\n",
    "# define Seaborn color palette to use\n",
    "palette_color = seaborn.color_palette('bright')\n",
    "# plotting data on chart\n",
    "col=['green','blue']\n",
    "plt.pie(data, labels=keys, autopct='%.0f%%',wedgeprops = { 'linewidth' : 2, 'edgecolor' : 'white' }, shadow=True, startangle=150,colors=col)\n",
    "  \n",
    "plt.title(\"After Winning Toss \"+ a +' Chosses', bbox={'facecolor':'0.8', 'pad':3})\n",
    "plt.show()"
   ]
  },
  {
   "cell_type": "code",
   "execution_count": 545,
   "id": "a82a6491-73f8-483d-a5ed-45689e7b1a23",
   "metadata": {},
   "outputs": [
    {
     "data": {
      "image/png": "[encoded data removed]",
      "text/plain": [
       "<Figure size 640x480 with 1 Axes>"
      ]
     },
     "metadata": {},
     "output_type": "display_data"
    }
   ],
   "source": [
    "# importing libraries\n",
    "import matplotlib.pyplot as plt\n",
    "import seaborn\n",
    "# declaring data\n",
    "data = [b_bat,b_field]\n",
    "keys = ['Batting','Fielding']\n",
    "# define Seaborn color palette to use\n",
    "palette_color = seaborn.color_palette('bright')\n",
    "# plotting data on chart\n",
    "col=['green','blue']\n",
    "plt.pie(data, labels=keys, autopct='%.0f%%',wedgeprops = { 'linewidth' : 2, 'edgecolor' : 'white' }, shadow=True, startangle=150,colors=col)\n",
    "  \n",
    "plt.title(\"After Winning Toss \"+ b +' Chosses', bbox={'facecolor':'0.8', 'pad':3})\n",
    "plt.show()"
   ]
  },
  {
   "cell_type": "code",
   "execution_count": 546,
   "id": "3d39dae4-9c74-49a6-9408-a8df9804f415",
   "metadata": {},
   "outputs": [
    {
     "data": {
      "image/png": "[encoded data removed]",
      "text/plain": [
       "<Figure size 640x480 with 1 Axes>"
      ]
     },
     "metadata": {},
     "output_type": "display_data"
    }
   ],
   "source": [
    "# importing libraries\n",
    "import matplotlib.pyplot as plt\n",
    "import seaborn\n",
    "# declaring data\n",
    "data = [a_chase_win,b_bowl_win]\n",
    "keys = ['Chassing','Fielding']\n",
    "# define Seaborn color palette to use\n",
    "palette_color = seaborn.color_palette('bright')\n",
    "# plotting data on chart\n",
    "col=['green','blue']\n",
    "plt.pie(data, labels=keys, autopct='%.0f%%',wedgeprops = { 'linewidth' : 2, 'edgecolor' : 'white' }, shadow=True, startangle=150,colors=col)\n",
    "  \n",
    "plt.title(a+\" Win while Chasing and Fielding\", bbox={'facecolor':'0.8', 'pad':3})\n",
    "plt.show()"
   ]
  },
  {
   "cell_type": "code",
   "execution_count": 547,
   "id": "aed65f10-6bc6-41eb-a12a-5c4ed7cf51eb",
   "metadata": {},
   "outputs": [
    {
     "data": {
      "image/png": "[encoded data removed]",
      "text/plain": [
       "<Figure size 640x480 with 1 Axes>"
      ]
     },
     "metadata": {},
     "output_type": "display_data"
    }
   ],
   "source": [
    "# importing libraries\n",
    "import matplotlib.pyplot as plt\n",
    "import seaborn\n",
    "# declaring data\n",
    "data = [b_chase_win,b_bowl_win]\n",
    "keys = ['Chassing','Fielding']\n",
    "# define Seaborn color palette to use\n",
    "palette_color = seaborn.color_palette('bright')\n",
    "# plotting data on chart\n",
    "col=['green','blue']\n",
    "plt.pie(data, labels=keys, autopct='%.0f%%',wedgeprops = { 'linewidth' : 2, 'edgecolor' : 'white' }, shadow=True, startangle=150,colors=col)\n",
    "  \n",
    "plt.title(b+\" Win while Chasing and Fielding\", bbox={'facecolor':'0.8', 'pad':3})\n",
    "plt.show()"
   ]
  },
  {
   "cell_type": "code",
   "execution_count": 548,
   "id": "2b0f39e9-ac61-4084-80c8-ccf79c91429a",
   "metadata": {},
   "outputs": [
    {
     "data": {
      "text/plain": [
       "'Kolkata Knight Riders'"
      ]
     },
     "execution_count": 548,
     "metadata": {},
     "output_type": "execute_result"
    }
   ],
   "source": [
    "b"
   ]
  },
  {
   "cell_type": "code",
   "execution_count": null,
   "id": "f7767535-93a1-4931-b560-0c1a693a21ec",
   "metadata": {},
   "outputs": [],
   "source": []
  },
  {
   "cell_type": "code",
   "execution_count": null,
   "id": "27399e4a-9650-4133-9151-e28cbfb10dac",
   "metadata": {},
   "outputs": [],
   "source": []
  }
 ],
 "metadata": {
  "kernelspec": {
   "display_name": "Python 3 (ipykernel)",
   "language": "python",
   "name": "python3"
  },
  "language_info": {
   "codemirror_mode": {
    "name": "ipython",
    "version": 3
   },
   "file_extension": ".py",
   "mimetype": "text/x-python",
   "name": "python",
   "nbconvert_exporter": "python",
   "pygments_lexer": "ipython3",
   "version": "3.10.8"
  }
 },
 "nbformat": 4,
 "nbformat_minor": 5
}
